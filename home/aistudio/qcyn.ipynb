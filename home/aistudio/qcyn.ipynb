{
 "cells": [
  {
   "cell_type": "markdown",
   "metadata": {
    "collapsed": false
   },
   "source": [
    "### 之前看到一位兄dei搞cxk的人体关键点检测挺有趣，想着是不是可以基于人体关键点检测，加个一个差异计算可以评估青你选手主题曲的动作标准度。也不知道行不行先试试！\n",
    "## 目的：\n",
    "- 由于本人沉迷青你无法自拔，pick谢可寅跟安崎，想通过AI各种手段，包括NLP、CV等，看看我pick的选手是不是既有实力又有观众缘\n",
    "- 说到实力，我打算使用关键点检测的模型，跟踪两位选手的骨骼走向，以安崎为标准，谢可寅为测试者，通过对比舞蹈得出实力评估值0-1\n",
    "- 然后观众缘，主要通过微博的评论，经过统计与情感分析获得选手的主要关注内容以及大众对她的好感度\n",
    "- 最后，据说风格迁移模型搞出来挺炫酷的，我也掺一脚\n",
    "\n",
    "## 具体思路：\n",
    "\n",
    "主要以安崎小甜心的主题曲直拍视频作为标准视频，谢可寅shaking的主题曲直拍视频作为测试视频\n",
    "\n",
    "1. 将标准视频进行爬取，将视频逐帧读取成图片;\n",
    "2. 由于图片背景光线不太利于关键点捕抓，利用deeplabv3p_xception65_humanseg进行抠图处理;\n",
    "3. 基于pose_resnet50_mpii模型进行关键点检测并存储检测结果;\n",
    "4. 然后对测试视频作同样处理存储检测结果;\n",
    "5. 基于单通道的直方图对标准检测结果集以及测试检测结果集进行图片相似度计算，取结果均值作为选手的主题曲实力值;\n",
    "6. 将获取的实力值合成到选手图片并输出\n",
    "7. 爬取微博测试选手相关评论，统计高频词输出图\n",
    "8. 对评论进行情感分析，输出总体评论积极与消极的对比饼图 \n",
    "\n",
    "\n",
    "![示例](https://ai-studio-static-online.cdn.bcebos.com/2cc2c32beba74d638cc6a717bb58951b0dfe93bb1aa34117808838cc631aee23)![](https://ai-studio-static-online.cdn.bcebos.com/b9837de36aa348e695a6a5bea7a26666c85836428ab0429a8a33d6ab1ed7a830)\n",
    "\n",
    "\n",
    "![](https://ai-studio-static-online.cdn.bcebos.com/c6b78c1b6688474e8c76cf93b64dbaa172021ef638ed48dcadc09d00c9cff9e8)\n",
    "\n",
    "### 风格迁移\n",
    "实现原视频画面风格转换成水墨风格，对视频的每一帧画面进行风格迁移处理，然后重新合成视频加上原视频音频后，重新输出\n",
    "\n",
    "![](https://ai-studio-static-online.cdn.bcebos.com/0111c40988394fbbaf9c08702a00bf97a3f4de017f8a46c78f66894f2424ba1c) ![](https://ai-studio-static-online.cdn.bcebos.com/b60066bb579a44c1b2ca568499c6e0812688a493df6e4c8fa8e1c8f83a5bd783)\n",
    "\n",
    "\n",
    "**成片**\n",
    "\n",
    "![](https://ai-studio-static-online.cdn.bcebos.com/35ec87217aa644e3b53200e5fd5ef2b4995bc319df3b49f78976c92675034c60)\n",
    "\n",
    "\n",
    "\n",
    "\n",
    "\n",
    "\n",
    " \n",
    "\n",
    "\n",
    "\n"
   ]
  },
  {
   "cell_type": "markdown",
   "metadata": {
    "collapsed": true
   },
   "source": [
    "# 引入库准备"
   ]
  },
  {
   "cell_type": "code",
   "execution_count": 2,
   "metadata": {
    "collapsed": false
   },
   "outputs": [
    {
     "name": "stdout",
     "output_type": "stream",
     "text": [
      "Looking in indexes: https://pypi.mirrors.ustc.edu.cn/simple/\n",
      "Collecting paddlepaddle\n",
      "\u001b[?25l  Downloading https://mirrors.tuna.tsinghua.edu.cn/pypi/web/packages/8d/6d/f69ea6f6df82cb2d6dcb768265509be95df34057bcdf8b6ec44fbeee3941/paddlepaddle-1.7.2-cp37-cp37m-manylinux1_x86_64.whl (103.3MB)\n",
      "\u001b[K     |████████████████████████████████| 103.3MB 298kB/s ta 0:00:014\n",
      "\u001b[?25hRequirement already satisfied, skipping upgrade: protobuf>=3.1.0 in /opt/conda/envs/python35-paddle120-env/lib/python3.7/site-packages (from paddlepaddle) (3.10.0)\n",
      "Requirement already satisfied, skipping upgrade: pyyaml in /opt/conda/envs/python35-paddle120-env/lib/python3.7/site-packages (from paddlepaddle) (5.1.2)\n",
      "Requirement already satisfied, skipping upgrade: objgraph in /opt/conda/envs/python35-paddle120-env/lib/python3.7/site-packages (from paddlepaddle) (3.4.1)\n",
      "Requirement already satisfied, skipping upgrade: six in /opt/conda/envs/python35-paddle120-env/lib/python3.7/site-packages (from paddlepaddle) (1.12.0)\n",
      "Requirement already satisfied, skipping upgrade: graphviz in /opt/conda/envs/python35-paddle120-env/lib/python3.7/site-packages (from paddlepaddle) (0.13)\n",
      "Requirement already satisfied, skipping upgrade: funcsigs in /opt/conda/envs/python35-paddle120-env/lib/python3.7/site-packages (from paddlepaddle) (1.0.2)\n",
      "Requirement already satisfied, skipping upgrade: requests>=2.20.0 in /opt/conda/envs/python35-paddle120-env/lib/python3.7/site-packages (from paddlepaddle) (2.22.0)\n",
      "Requirement already satisfied, skipping upgrade: rarfile in /opt/conda/envs/python35-paddle120-env/lib/python3.7/site-packages (from paddlepaddle) (3.1)\n",
      "Requirement already satisfied, skipping upgrade: scipy<=1.3.1; python_version >= \"3.5\" in /opt/conda/envs/python35-paddle120-env/lib/python3.7/site-packages (from paddlepaddle) (1.3.0)\n",
      "Requirement already satisfied, skipping upgrade: nltk; python_version >= \"3.5\" in /opt/conda/envs/python35-paddle120-env/lib/python3.7/site-packages (from paddlepaddle) (3.4.5)\n",
      "Requirement already satisfied, skipping upgrade: opencv-python in /opt/conda/envs/python35-paddle120-env/lib/python3.7/site-packages (from paddlepaddle) (4.1.1.26)\n",
      "Requirement already satisfied, skipping upgrade: prettytable in /opt/conda/envs/python35-paddle120-env/lib/python3.7/site-packages (from paddlepaddle) (0.7.2)\n",
      "Requirement already satisfied, skipping upgrade: matplotlib; python_version >= \"3.6\" in /opt/conda/envs/python35-paddle120-env/lib/python3.7/site-packages (from paddlepaddle) (2.2.3)\n",
      "Requirement already satisfied, skipping upgrade: Pillow in /opt/conda/envs/python35-paddle120-env/lib/python3.7/site-packages (from paddlepaddle) (6.2.0)\n",
      "Requirement already satisfied, skipping upgrade: decorator in /opt/conda/envs/python35-paddle120-env/lib/python3.7/site-packages (from paddlepaddle) (4.4.0)\n",
      "Requirement already satisfied, skipping upgrade: numpy>=1.12; python_version >= \"3.5\" in /opt/conda/envs/python35-paddle120-env/lib/python3.7/site-packages (from paddlepaddle) (1.16.4)\n",
      "Requirement already satisfied, skipping upgrade: setuptools in /opt/conda/envs/python35-paddle120-env/lib/python3.7/site-packages (from protobuf>=3.1.0->paddlepaddle) (41.4.0)\n",
      "Requirement already satisfied, skipping upgrade: chardet<3.1.0,>=3.0.2 in /opt/conda/envs/python35-paddle120-env/lib/python3.7/site-packages (from requests>=2.20.0->paddlepaddle) (3.0.4)\n",
      "Requirement already satisfied, skipping upgrade: certifi>=2017.4.17 in /opt/conda/envs/python35-paddle120-env/lib/python3.7/site-packages (from requests>=2.20.0->paddlepaddle) (2019.9.11)\n",
      "Requirement already satisfied, skipping upgrade: urllib3!=1.25.0,!=1.25.1,<1.26,>=1.21.1 in /opt/conda/envs/python35-paddle120-env/lib/python3.7/site-packages (from requests>=2.20.0->paddlepaddle) (1.25.6)\n",
      "Requirement already satisfied, skipping upgrade: idna<2.9,>=2.5 in /opt/conda/envs/python35-paddle120-env/lib/python3.7/site-packages (from requests>=2.20.0->paddlepaddle) (2.8)\n",
      "Requirement already satisfied, skipping upgrade: cycler>=0.10 in /opt/conda/envs/python35-paddle120-env/lib/python3.7/site-packages (from matplotlib; python_version >= \"3.6\"->paddlepaddle) (0.10.0)\n",
      "Requirement already satisfied, skipping upgrade: python-dateutil>=2.1 in /opt/conda/envs/python35-paddle120-env/lib/python3.7/site-packages (from matplotlib; python_version >= \"3.6\"->paddlepaddle) (2.8.0)\n",
      "Requirement already satisfied, skipping upgrade: kiwisolver>=1.0.1 in /opt/conda/envs/python35-paddle120-env/lib/python3.7/site-packages (from matplotlib; python_version >= \"3.6\"->paddlepaddle) (1.1.0)\n",
      "Requirement already satisfied, skipping upgrade: pytz in /opt/conda/envs/python35-paddle120-env/lib/python3.7/site-packages (from matplotlib; python_version >= \"3.6\"->paddlepaddle) (2019.3)\n",
      "Requirement already satisfied, skipping upgrade: pyparsing!=2.0.4,!=2.1.2,!=2.1.6,>=2.0.1 in /opt/conda/envs/python35-paddle120-env/lib/python3.7/site-packages (from matplotlib; python_version >= \"3.6\"->paddlepaddle) (2.4.2)\n",
      "Installing collected packages: paddlepaddle\n",
      "Successfully installed paddlepaddle-1.7.2\n",
      "Looking in indexes: https://pypi.mirrors.ustc.edu.cn/simple/\n",
      "Collecting paddlehub\n",
      "\u001b[33m  WARNING: Retrying (Retry(total=4, connect=None, read=None, redirect=None, status=None)) after connection broken by 'ReadTimeoutError(\"HTTPSConnectionPool(host='mirrors.ustc.edu.cn', port=443): Read timed out. (read timeout=15)\")': /pypi/web/simple/paddlehub/\u001b[0m\n",
      "\u001b[?25l  Downloading https://mirrors.tuna.tsinghua.edu.cn/pypi/web/packages/6e/07/d4839d63853c01d2f9d040ff079e63e007c9e4084e74f447baf46b426811/paddlehub-1.6.2-py3-none-any.whl (207kB)\n",
      "\u001b[K     |████████████████████████████████| 215kB 4.4MB/s eta 0:00:01\n",
      "\u001b[?25hRequirement already satisfied, skipping upgrade: chardet==3.0.4 in /opt/conda/envs/python35-paddle120-env/lib/python3.7/site-packages (from paddlehub) (3.0.4)\n",
      "Requirement already satisfied, skipping upgrade: pre-commit in /opt/conda/envs/python35-paddle120-env/lib/python3.7/site-packages (from paddlehub) (1.21.0)\n",
      "Requirement already satisfied, skipping upgrade: Pillow in /opt/conda/envs/python35-paddle120-env/lib/python3.7/site-packages (from paddlehub) (6.2.0)\n",
      "Requirement already satisfied, skipping upgrade: flask>=1.1.0 in /opt/conda/envs/python35-paddle120-env/lib/python3.7/site-packages (from paddlehub) (1.1.1)\n",
      "Requirement already satisfied, skipping upgrade: tensorboard>=1.15 in /opt/conda/envs/python35-paddle120-env/lib/python3.7/site-packages (from paddlehub) (2.1.0)\n",
      "Requirement already satisfied, skipping upgrade: pandas; python_version >= \"3\" in /opt/conda/envs/python35-paddle120-env/lib/python3.7/site-packages (from paddlehub) (0.23.4)\n",
      "Requirement already satisfied, skipping upgrade: colorlog in /opt/conda/envs/python35-paddle120-env/lib/python3.7/site-packages (from paddlehub) (4.1.0)\n",
      "Requirement already satisfied, skipping upgrade: tb-paddle in /opt/conda/envs/python35-paddle120-env/lib/python3.7/site-packages (from paddlehub) (0.3.6)\n",
      "Requirement already satisfied, skipping upgrade: protobuf>=3.6.0 in /opt/conda/envs/python35-paddle120-env/lib/python3.7/site-packages (from paddlehub) (3.10.0)\n",
      "Requirement already satisfied, skipping upgrade: opencv-python in /opt/conda/envs/python35-paddle120-env/lib/python3.7/site-packages (from paddlehub) (4.1.1.26)\n",
      "Requirement already satisfied, skipping upgrade: numpy; python_version >= \"3\" in /opt/conda/envs/python35-paddle120-env/lib/python3.7/site-packages (from paddlehub) (1.16.4)\n",
      "Requirement already satisfied, skipping upgrade: cma==2.7.0 in /opt/conda/envs/python35-paddle120-env/lib/python3.7/site-packages (from paddlehub) (2.7.0)\n",
      "Requirement already satisfied, skipping upgrade: requests in /opt/conda/envs/python35-paddle120-env/lib/python3.7/site-packages (from paddlehub) (2.22.0)\n",
      "Requirement already satisfied, skipping upgrade: pyyaml in /opt/conda/envs/python35-paddle120-env/lib/python3.7/site-packages (from paddlehub) (5.1.2)\n",
      "Requirement already satisfied, skipping upgrade: six>=1.10.0 in /opt/conda/envs/python35-paddle120-env/lib/python3.7/site-packages (from paddlehub) (1.12.0)\n",
      "Requirement already satisfied, skipping upgrade: sentencepiece in /opt/conda/envs/python35-paddle120-env/lib/python3.7/site-packages (from paddlehub) (0.1.85)\n",
      "Requirement already satisfied, skipping upgrade: gunicorn>=19.10.0; sys_platform != \"win32\" in /opt/conda/envs/python35-paddle120-env/lib/python3.7/site-packages (from paddlehub) (20.0.4)\n",
      "Requirement already satisfied, skipping upgrade: nltk in /opt/conda/envs/python35-paddle120-env/lib/python3.7/site-packages (from paddlehub) (3.4.5)\n",
      "Requirement already satisfied, skipping upgrade: flake8 in /opt/conda/envs/python35-paddle120-env/lib/python3.7/site-packages (from paddlehub) (3.7.9)\n",
      "Requirement already satisfied, skipping upgrade: yapf==0.26.0 in /opt/conda/envs/python35-paddle120-env/lib/python3.7/site-packages (from paddlehub) (0.26.0)\n",
      "Requirement already satisfied, skipping upgrade: cfgv>=2.0.0 in /opt/conda/envs/python35-paddle120-env/lib/python3.7/site-packages (from pre-commit->paddlehub) (2.0.1)\n",
      "Requirement already satisfied, skipping upgrade: importlib-metadata; python_version < \"3.8\" in /opt/conda/envs/python35-paddle120-env/lib/python3.7/site-packages (from pre-commit->paddlehub) (0.23)\n",
      "Requirement already satisfied, skipping upgrade: identify>=1.0.0 in /opt/conda/envs/python35-paddle120-env/lib/python3.7/site-packages (from pre-commit->paddlehub) (1.4.10)\n",
      "Requirement already satisfied, skipping upgrade: virtualenv>=15.2 in /opt/conda/envs/python35-paddle120-env/lib/python3.7/site-packages (from pre-commit->paddlehub) (16.7.9)\n",
      "Requirement already satisfied, skipping upgrade: nodeenv>=0.11.1 in /opt/conda/envs/python35-paddle120-env/lib/python3.7/site-packages (from pre-commit->paddlehub) (1.3.4)\n",
      "Requirement already satisfied, skipping upgrade: aspy.yaml in /opt/conda/envs/python35-paddle120-env/lib/python3.7/site-packages (from pre-commit->paddlehub) (1.3.0)\n",
      "Requirement already satisfied, skipping upgrade: toml in /opt/conda/envs/python35-paddle120-env/lib/python3.7/site-packages (from pre-commit->paddlehub) (0.10.0)\n",
      "Requirement already satisfied, skipping upgrade: Werkzeug>=0.15 in /opt/conda/envs/python35-paddle120-env/lib/python3.7/site-packages (from flask>=1.1.0->paddlehub) (0.16.0)\n",
      "Requirement already satisfied, skipping upgrade: click>=5.1 in /opt/conda/envs/python35-paddle120-env/lib/python3.7/site-packages (from flask>=1.1.0->paddlehub) (7.0)\n",
      "Requirement already satisfied, skipping upgrade: Jinja2>=2.10.1 in /opt/conda/envs/python35-paddle120-env/lib/python3.7/site-packages (from flask>=1.1.0->paddlehub) (2.10.1)\n",
      "Requirement already satisfied, skipping upgrade: itsdangerous>=0.24 in /opt/conda/envs/python35-paddle120-env/lib/python3.7/site-packages (from flask>=1.1.0->paddlehub) (1.1.0)\n",
      "Requirement already satisfied, skipping upgrade: markdown>=2.6.8 in /opt/conda/envs/python35-paddle120-env/lib/python3.7/site-packages (from tensorboard>=1.15->paddlehub) (3.1.1)\n",
      "Requirement already satisfied, skipping upgrade: google-auth<2,>=1.6.3 in /opt/conda/envs/python35-paddle120-env/lib/python3.7/site-packages (from tensorboard>=1.15->paddlehub) (1.10.0)\n",
      "Requirement already satisfied, skipping upgrade: setuptools>=41.0.0 in /opt/conda/envs/python35-paddle120-env/lib/python3.7/site-packages (from tensorboard>=1.15->paddlehub) (41.4.0)\n",
      "Requirement already satisfied, skipping upgrade: wheel>=0.26; python_version >= \"3\" in /opt/conda/envs/python35-paddle120-env/lib/python3.7/site-packages (from tensorboard>=1.15->paddlehub) (0.33.6)\n",
      "Requirement already satisfied, skipping upgrade: google-auth-oauthlib<0.5,>=0.4.1 in /opt/conda/envs/python35-paddle120-env/lib/python3.7/site-packages (from tensorboard>=1.15->paddlehub) (0.4.1)\n",
      "Requirement already satisfied, skipping upgrade: absl-py>=0.4 in /opt/conda/envs/python35-paddle120-env/lib/python3.7/site-packages (from tensorboard>=1.15->paddlehub) (0.8.1)\n",
      "Requirement already satisfied, skipping upgrade: grpcio>=1.24.3 in /opt/conda/envs/python35-paddle120-env/lib/python3.7/site-packages (from tensorboard>=1.15->paddlehub) (1.26.0)\n",
      "Requirement already satisfied, skipping upgrade: pytz>=2011k in /opt/conda/envs/python35-paddle120-env/lib/python3.7/site-packages (from pandas; python_version >= \"3\"->paddlehub) (2019.3)\n",
      "Requirement already satisfied, skipping upgrade: python-dateutil>=2.5.0 in /opt/conda/envs/python35-paddle120-env/lib/python3.7/site-packages (from pandas; python_version >= \"3\"->paddlehub) (2.8.0)\n",
      "Requirement already satisfied, skipping upgrade: moviepy in /opt/conda/envs/python35-paddle120-env/lib/python3.7/site-packages (from tb-paddle->paddlehub) (1.0.1)\n",
      "Requirement already satisfied, skipping upgrade: certifi>=2017.4.17 in /opt/conda/envs/python35-paddle120-env/lib/python3.7/site-packages (from requests->paddlehub) (2019.9.11)\n",
      "Requirement already satisfied, skipping upgrade: urllib3!=1.25.0,!=1.25.1,<1.26,>=1.21.1 in /opt/conda/envs/python35-paddle120-env/lib/python3.7/site-packages (from requests->paddlehub) (1.25.6)\n",
      "Requirement already satisfied, skipping upgrade: idna<2.9,>=2.5 in /opt/conda/envs/python35-paddle120-env/lib/python3.7/site-packages (from requests->paddlehub) (2.8)\n",
      "Requirement already satisfied, skipping upgrade: mccabe<0.7.0,>=0.6.0 in /opt/conda/envs/python35-paddle120-env/lib/python3.7/site-packages (from flake8->paddlehub) (0.6.1)\n",
      "Requirement already satisfied, skipping upgrade: pyflakes<2.2.0,>=2.1.0 in /opt/conda/envs/python35-paddle120-env/lib/python3.7/site-packages (from flake8->paddlehub) (2.1.1)\n",
      "Requirement already satisfied, skipping upgrade: pycodestyle<2.6.0,>=2.5.0 in /opt/conda/envs/python35-paddle120-env/lib/python3.7/site-packages (from flake8->paddlehub) (2.5.0)\n",
      "Requirement already satisfied, skipping upgrade: entrypoints<0.4.0,>=0.3.0 in /opt/conda/envs/python35-paddle120-env/lib/python3.7/site-packages (from flake8->paddlehub) (0.3)\n",
      "Requirement already satisfied, skipping upgrade: zipp>=0.5 in /opt/conda/envs/python35-paddle120-env/lib/python3.7/site-packages (from importlib-metadata; python_version < \"3.8\"->pre-commit->paddlehub) (0.6.0)\n",
      "Requirement already satisfied, skipping upgrade: MarkupSafe>=0.23 in /opt/conda/envs/python35-paddle120-env/lib/python3.7/site-packages (from Jinja2>=2.10.1->flask>=1.1.0->paddlehub) (1.1.1)\n",
      "Requirement already satisfied, skipping upgrade: pyasn1-modules>=0.2.1 in /opt/conda/envs/python35-paddle120-env/lib/python3.7/site-packages (from google-auth<2,>=1.6.3->tensorboard>=1.15->paddlehub) (0.2.7)\n",
      "Requirement already satisfied, skipping upgrade: cachetools<5.0,>=2.0.0 in /opt/conda/envs/python35-paddle120-env/lib/python3.7/site-packages (from google-auth<2,>=1.6.3->tensorboard>=1.15->paddlehub) (4.0.0)\n",
      "Requirement already satisfied, skipping upgrade: rsa<4.1,>=3.1.4 in /opt/conda/envs/python35-paddle120-env/lib/python3.7/site-packages (from google-auth<2,>=1.6.3->tensorboard>=1.15->paddlehub) (4.0)\n",
      "Requirement already satisfied, skipping upgrade: requests-oauthlib>=0.7.0 in /opt/conda/envs/python35-paddle120-env/lib/python3.7/site-packages (from google-auth-oauthlib<0.5,>=0.4.1->tensorboard>=1.15->paddlehub) (1.3.0)\n",
      "Requirement already satisfied, skipping upgrade: imageio<3.0,>=2.5; python_version >= \"3.4\" in /opt/conda/envs/python35-paddle120-env/lib/python3.7/site-packages (from moviepy->tb-paddle->paddlehub) (2.6.1)\n",
      "Requirement already satisfied, skipping upgrade: imageio-ffmpeg>=0.2.0; python_version >= \"3.4\" in /opt/conda/envs/python35-paddle120-env/lib/python3.7/site-packages (from moviepy->tb-paddle->paddlehub) (0.3.0)\n",
      "Requirement already satisfied, skipping upgrade: proglog<=1.0.0 in /opt/conda/envs/python35-paddle120-env/lib/python3.7/site-packages (from moviepy->tb-paddle->paddlehub) (0.1.9)\n",
      "Requirement already satisfied, skipping upgrade: decorator<5.0,>=4.0.2 in /opt/conda/envs/python35-paddle120-env/lib/python3.7/site-packages (from moviepy->tb-paddle->paddlehub) (4.4.0)\n",
      "Requirement already satisfied, skipping upgrade: tqdm<5.0,>=4.11.2 in /opt/conda/envs/python35-paddle120-env/lib/python3.7/site-packages (from moviepy->tb-paddle->paddlehub) (4.36.1)\n",
      "Requirement already satisfied, skipping upgrade: more-itertools in /opt/conda/envs/python35-paddle120-env/lib/python3.7/site-packages (from zipp>=0.5->importlib-metadata; python_version < \"3.8\"->pre-commit->paddlehub) (7.2.0)\n",
      "Requirement already satisfied, skipping upgrade: pyasn1<0.5.0,>=0.4.6 in /opt/conda/envs/python35-paddle120-env/lib/python3.7/site-packages (from pyasn1-modules>=0.2.1->google-auth<2,>=1.6.3->tensorboard>=1.15->paddlehub) (0.4.8)\n",
      "Requirement already satisfied, skipping upgrade: oauthlib>=3.0.0 in /opt/conda/envs/python35-paddle120-env/lib/python3.7/site-packages (from requests-oauthlib>=0.7.0->google-auth-oauthlib<0.5,>=0.4.1->tensorboard>=1.15->paddlehub) (3.1.0)\n",
      "Installing collected packages: paddlehub\n",
      "  Found existing installation: paddlehub 1.5.0\n",
      "    Uninstalling paddlehub-1.5.0:\n",
      "      Successfully uninstalled paddlehub-1.5.0\n",
      "Successfully installed paddlehub-1.6.2\n",
      "Looking in indexes: https://pypi.mirrors.ustc.edu.cn/simple/\n",
      "Requirement already satisfied: moviepy in /opt/conda/envs/python35-paddle120-env/lib/python3.7/site-packages (1.0.1)\n",
      "Requirement already satisfied: imageio-ffmpeg>=0.2.0; python_version >= \"3.4\" in /opt/conda/envs/python35-paddle120-env/lib/python3.7/site-packages (from moviepy) (0.3.0)\n",
      "Requirement already satisfied: numpy in /opt/conda/envs/python35-paddle120-env/lib/python3.7/site-packages (from moviepy) (1.16.4)\n",
      "Requirement already satisfied: imageio<3.0,>=2.5; python_version >= \"3.4\" in /opt/conda/envs/python35-paddle120-env/lib/python3.7/site-packages (from moviepy) (2.6.1)\n",
      "Requirement already satisfied: tqdm<5.0,>=4.11.2 in /opt/conda/envs/python35-paddle120-env/lib/python3.7/site-packages (from moviepy) (4.36.1)\n",
      "Requirement already satisfied: proglog<=1.0.0 in /opt/conda/envs/python35-paddle120-env/lib/python3.7/site-packages (from moviepy) (0.1.9)\n",
      "Requirement already satisfied: requests<3.0,>=2.8.1 in /opt/conda/envs/python35-paddle120-env/lib/python3.7/site-packages (from moviepy) (2.22.0)\n",
      "Requirement already satisfied: decorator<5.0,>=4.0.2 in /opt/conda/envs/python35-paddle120-env/lib/python3.7/site-packages (from moviepy) (4.4.0)\n",
      "Requirement already satisfied: pillow in /opt/conda/envs/python35-paddle120-env/lib/python3.7/site-packages (from imageio<3.0,>=2.5; python_version >= \"3.4\"->moviepy) (6.2.0)\n",
      "Requirement already satisfied: idna<2.9,>=2.5 in /opt/conda/envs/python35-paddle120-env/lib/python3.7/site-packages (from requests<3.0,>=2.8.1->moviepy) (2.8)\n",
      "Requirement already satisfied: chardet<3.1.0,>=3.0.2 in /opt/conda/envs/python35-paddle120-env/lib/python3.7/site-packages (from requests<3.0,>=2.8.1->moviepy) (3.0.4)\n",
      "Requirement already satisfied: certifi>=2017.4.17 in /opt/conda/envs/python35-paddle120-env/lib/python3.7/site-packages (from requests<3.0,>=2.8.1->moviepy) (2019.9.11)\n",
      "Requirement already satisfied: urllib3!=1.25.0,!=1.25.1,<1.26,>=1.21.1 in /opt/conda/envs/python35-paddle120-env/lib/python3.7/site-packages (from requests<3.0,>=2.8.1->moviepy) (1.25.6)\n",
      "Looking in indexes: https://pypi.mirrors.ustc.edu.cn/simple/\n",
      "Collecting pygame\n",
      "\u001b[?25l  Downloading https://mirrors.tuna.tsinghua.edu.cn/pypi/web/packages/18/b3/0bf5afdcf6ef95d2a343cd7865585a6efe5e3e727c1a4f3385c9935248cf/pygame-1.9.6-cp37-cp37m-manylinux1_x86_64.whl (11.4MB)\n",
      "\u001b[K     |████████████████████████████████| 11.4MB 391kB/s eta 0:00:01\n",
      "\u001b[?25hInstalling collected packages: pygame\n",
      "Successfully installed pygame-1.9.6\n"
     ]
    }
   ],
   "source": [
    "!pip install --upgrade paddlepaddle\r\n",
    "!pip install --upgrade paddlehub\r\n",
    "!pip install moviepy\r\n",
    "!pip install pygame\r\n"
   ]
  },
  {
   "cell_type": "code",
   "execution_count": 5,
   "metadata": {
    "collapsed": false
   },
   "outputs": [
    {
     "name": "stdout",
     "output_type": "stream",
     "text": [
      "pygame 1.9.6\n",
      "Hello from the pygame community. https://www.pygame.org/contribute.html\n"
     ]
    }
   ],
   "source": [
    "#相关库的导入\r\n",
    "import os\r\n",
    "import cv2\r\n",
    "import paddlehub as hub\r\n",
    "from moviepy.editor import *\r\n",
    "from matplotlib import pyplot as plt\r\n",
    "import numpy as np  \r\n",
    "import matplotlib.pyplot as plt \r\n",
    "import matplotlib.image as mpimg \r\n",
    "from PIL import ImageFont, ImageDraw, Image\r\n",
    "import requests\r\n",
    "\r\n"
   ]
  },
  {
   "cell_type": "code",
   "execution_count": 3,
   "metadata": {
    "collapsed": false
   },
   "outputs": [
    {
     "name": "stdout",
     "output_type": "stream",
     "text": [
      "Downloading stylepro_artistic\n",
      "[==================================================] 100.00%\n",
      "Uncompress /home/aistudio/.paddlehub/tmp/tmpsuwdvdb5/stylepro_artistic\n",
      "[==================================================] 100.00%\n",
      "Successfully installed stylepro_artistic-1.0.0\n"
     ]
    }
   ],
   "source": [
    "# !hub install pose_resnet50_mpii\r\n",
    "# !hub install deeplabv3p_xception65_humanseg\r\n",
    "!hub install stylepro_artistic"
   ]
  },
  {
   "cell_type": "code",
   "execution_count": 6,
   "metadata": {
    "collapsed": false
   },
   "outputs": [
    {
     "name": "stderr",
     "output_type": "stream",
     "text": [
      "\u001b[32m[2020-05-05 12:27:53,703] [    INFO] - Installing pose_resnet50_mpii module\u001b[0m\n",
      "\u001b[32m[2020-05-05 12:27:53,855] [    INFO] - Module pose_resnet50_mpii already installed in /home/aistudio/.paddlehub/modules/pose_resnet50_mpii\u001b[0m\n",
      "\u001b[32m[2020-05-05 12:27:54,205] [    INFO] - Installing deeplabv3p_xception65_humanseg module\u001b[0m\n",
      "\u001b[32m[2020-05-05 12:27:54,267] [    INFO] - Module deeplabv3p_xception65_humanseg already installed in /home/aistudio/.paddlehub/modules/deeplabv3p_xception65_humanseg\u001b[0m\n",
      "\u001b[32m[2020-05-05 12:27:57,065] [    INFO] - Installing stylepro_artistic module\u001b[0m\n",
      "\u001b[32m[2020-05-05 12:27:57,104] [    INFO] - Module stylepro_artistic already installed in /home/aistudio/.paddlehub/modules/stylepro_artistic\u001b[0m\n"
     ]
    }
   ],
   "source": [
    "# ## 模型安装\r\n",
    "# ## 位置点预测模型\r\n",
    "pose_resnet50_mpii = hub.Module(name=\"pose_resnet50_mpii\") \r\n",
    "# ## 抠图模型\r\n",
    "humanseg = hub.Module(name=\"deeplabv3p_xception65_humanseg\")\r\n",
    "## 风格转换模型\r\n",
    "stylepro_artistic = hub.Module(name=\"stylepro_artistic\")\r\n"
   ]
  },
  {
   "cell_type": "markdown",
   "metadata": {
    "collapsed": false
   },
   "source": [
    "# 初始化数据集\n",
    "搞一个青你主题曲标准视频作为数据集，选取比较优秀的选手安崎小甜心的主题曲直拍作为参考视频，具体爬取微博小视频的方式涉及版权不作详细介绍\n"
   ]
  },
  {
   "cell_type": "code",
   "execution_count": null,
   "metadata": {
    "collapsed": false
   },
   "outputs": [],
   "source": [
    "\r\n",
    "def download_video(url,path):\r\n",
    "    # url 为视频下载地址\r\n",
    "    # video保存地址\r\n",
    "    headers={\r\n",
    "            'User-Agent': 'Mozilla/5.0 (Windows NT 10.0; WOW64) AppleWebKit/537.36 (KHTML, like Gecko) Chrome/69.0.3497.100 Safari/537.36',\r\n",
    "            'Accept': 'text/html,application/xhtml+xml,application/xml;q=0.9,image/webp,image/apng,*/*;q=0.8',\r\n",
    "            'Accept-Encoding': 'gzip, deflate, br',\r\n",
    "            'Accept-Language': 'zh-CN,zh;q = 0.9'\r\n",
    "        }\r\n",
    "    mp4_info = requests.get(url=aq_url, headers=headers, stream=True, verify=False).content\r\n",
    "    with open(path, \"wb\") as f:\r\n",
    "        f.write(mp4_info)\r\n",
    "    f.close\r\n",
    "\r\n",
    "# aq_url = 'http://f.video.weibocdn.com/004tUGlvgx07Cqf0sEtG010412012bBR0E010.mp4?label=mp4_hd&template=352x640.25.0&trans_finger=1621fcd5d40969f1c74e6b06e52fcd54&Expires=1588498809&ssig=kFgW8J7KpP&KID=unistore,video'\r\n",
    "# download_video(aq_url,'video/aq_base.mp4')\r\n"
   ]
  },
  {
   "cell_type": "markdown",
   "metadata": {
    "collapsed": false
   },
   "source": [
    "# 处理视频\n",
    "\n",
    "将视频逐帧读取成图片\n"
   ]
  },
  {
   "cell_type": "code",
   "execution_count": 20,
   "metadata": {
    "collapsed": false
   },
   "outputs": [],
   "source": [
    "def CutVideo2Image(video_path, img_path):\r\n",
    "    \"读取视频，获取每帧画面，输出为图片\"\r\n",
    "    \"video_path：输入视频路径\"\r\n",
    "    \"img_path：输出图片路径\"\r\n",
    "    cap = cv2.VideoCapture(video_path)\r\n",
    "    index = 0\r\n",
    "    global size_y ,size_x\r\n",
    "    while(True):\r\n",
    "        ret,frame = cap.read() \r\n",
    "        if ret and index < 2000:\r\n",
    "            # cv2.imwrite(img_path + '%d.jpg' % index, frame)\r\n",
    "            index += 1\r\n",
    "        else:\r\n",
    "            break\r\n",
    "        size_x = frame.shape[0]\r\n",
    "        size_y = frame.shape[1]\r\n",
    "    cap.release()\r\n",
    "    print('Video cut finish, all %d frame' % index)\r\n",
    "    print(\"imge size:x is {1},y is {0}\".format(size_x,size_y))\r\n",
    "   \r\n",
    "\r\n",
    "\r\n"
   ]
  },
  {
   "cell_type": "markdown",
   "metadata": {
    "collapsed": false
   },
   "source": [
    "#  进行一张图片的人体关键点的预测与划线\n",
    "`作用`：确定数据格式，保证输出样式\n",
    "\n",
    " `功能`：，在预测图片的基础上进行划线连接\n",
    "\n",
    "**改动參数,将读进来的是BGR格式转为RGB**"
   ]
  },
  {
   "cell_type": "markdown",
   "metadata": {
    "collapsed": false
   },
   "source": [
    "## 处理图片背景\n",
    "\n",
    "由于视频的光线色彩有点炫酷，所以处理一下图片进行抠图，然后合成白底输出"
   ]
  },
  {
   "cell_type": "code",
   "execution_count": null,
   "metadata": {
    "collapsed": false
   },
   "outputs": [],
   "source": [
    "import os\r\n",
    "\r\n",
    "# 抠图\r\n",
    "def delete_bg(path):\r\n",
    "    \"抠图去除多余背景\"\r\n",
    "    \"path:需要抠图的图片目录\"\r\n",
    "    img_list= [os.path.join(path,f) for f in os.listdir(path) if f.endswith('.jpg')]\r\n",
    "    num=100 #定义每组包含的元素个数\r\n",
    "    for i in range(0,len(img_list),num):\r\n",
    "        humanseg.segmentation(data={\"image\":img_list[i:i+num]},output_dir='h_out/')\r\n",
    "\r\n",
    " #   results = humanseg.segmentation(data={\"image\":img_list})\r\n",
    "\r\n",
    "# delete_bg('data/img/base')"
   ]
  },
  {
   "cell_type": "code",
   "execution_count": null,
   "metadata": {
    "collapsed": false
   },
   "outputs": [],
   "source": [
    "from PIL import Image \r\n",
    "\r\n",
    "# 合成图片\r\n",
    "## base_image_path:背景路径\r\n",
    "## fore_image_path：前景路径\r\n",
    "## save_path： 输出图片路径\r\n",
    "## is_resize 是否大小统一\r\n",
    "def composition_img(base_image_path,fore_image_path,save_path,is_resize):\r\n",
    "    base_image = Image.open(base_image_path).convert('RGB')\r\n",
    "    if is_resize== True:\r\n",
    "        fore_image = Image.open(fore_image_path).resize(base_image.size)\r\n",
    "    else:\r\n",
    "        fore_image = Image.open(fore_image_path)\r\n",
    "        # 图片加权合成\r\n",
    "    scope_map = np.array(fore_image)[:,:,-1] / 255\r\n",
    "    scope_map = scope_map[:,:,np.newaxis]\r\n",
    "    scope_map = np.repeat(scope_map, repeats=3, axis=2)#表示将矩阵沿着每个元素复制3次\r\n",
    "    res_image = np.multiply(scope_map, np.array(fore_image)[:,:,:3]) + np.multiply((1-scope_map), np.array(base_image))\r\n",
    "        \r\n",
    "    #保存图片\r\n",
    "    res_image = Image.fromarray(np.uint8(res_image))\r\n",
    "    res_image.save(save_path)\r\n"
   ]
  },
  {
   "cell_type": "code",
   "execution_count": null,
   "metadata": {
    "collapsed": false
   },
   "outputs": [],
   "source": [
    "\r\n",
    "# 添加白色背景转成jpg\r\n",
    "def add_white_bg(path,bgout_path,output_path):\r\n",
    "    \r\n",
    "    num = os.listdir(path)\r\n",
    "\r\n",
    "    for i in range(0,len(num)-1):\r\n",
    "        img_black = np.zeros((size_x,size_y,3), np.uint8)\r\n",
    "        img_black.fill(255)\r\n",
    "        img_black_path =bgout_path + str(i) + \".jpg\"\r\n",
    "        cv2.imwrite(img_black_path,img_black)\r\n",
    "\r\n",
    "    for i in range(0,len(num)-1):\r\n",
    "        # 合成图片\r\n",
    "        composition_img(img_black_path,path+str(i)+'.png',output_path+str(i)+'.jpg',True)\r\n",
    " \r\n",
    "\r\n",
    "# add_white_bg('h_out/','data/img/bgout/','data/img/bgres/')"
   ]
  },
  {
   "cell_type": "markdown",
   "metadata": {
    "collapsed": false
   },
   "source": [
    "## 使用关键点检测模型进行画点线输出"
   ]
  },
  {
   "cell_type": "markdown",
   "metadata": {
    "collapsed": false
   },
   "source": [
    "### 定义数据转化格式\n",
    "`函数change_data(result) `\n",
    "\n",
    "`输入参数`：人体骨骼关键点检测模型的输出结果\n",
    "\n",
    " `输出参数`: 关于人体关键点的全局变量\n",
    " \n",
    "`函数功能`\t：`**将位置点预测模型输出的数据形式转为预期的数据**"
   ]
  },
  {
   "cell_type": "code",
   "execution_count": null,
   "metadata": {
    "collapsed": false
   },
   "outputs": [],
   "source": [
    "\r\n",
    "def change_data(result):\r\n",
    "  global left_ankle,left_knee,left_hip,right_hip,right_knee,right_ankle,pelvis,thorax,upper_neck\r\n",
    "  global right_wrist,right_elbow,right_shoulder,left_shoulder,left_elbow,left_wrist,head_top\r\n",
    "\r\n",
    "  left_ankle = result['data']['left_ankle']\r\n",
    "  left_knee = result['data']['left_knee']\r\n",
    "  left_hip = result['data']['left_hip']\r\n",
    "  right_hip = result['data']['right_hip']\r\n",
    "  right_knee = result['data']['right_knee']\r\n",
    "  right_ankle = result['data']['right_ankle']\r\n",
    "  pelvis = result['data']['pelvis']\r\n",
    "  thorax = result['data']['thorax']\r\n",
    "  upper_neck = result['data']['upper neck']\r\n",
    "  head_top = result['data']['head top']\r\n",
    "  right_wrist = result['data']['right_wrist']\r\n",
    "  right_elbow = result['data']['right_elbow']\r\n",
    "  right_shoulder = result['data']['right_shoulder']\r\n",
    "  left_shoulder = result['data']['left_shoulder']\r\n",
    "  left_elbow = result['data']['left_elbow']\r\n",
    "  left_wrist = result['data']['left_wrist']\r\n"
   ]
  },
  {
   "cell_type": "markdown",
   "metadata": {
    "collapsed": false
   },
   "source": [
    "### 将位置点连线\n",
    "格式\n",
    "`cv2.circle(img, point, point_size, point_color, thickness)`\n",
    "\n",
    "`输入参数`:`predict_img_path`为输入图片的地址\n",
    "\n",
    "`输出参数`：由两个分别是将人体关键点的线画在`空白背景上`/`模型输出的图片上`\n",
    "\n",
    "功能：`给图片划线`并写入将图片按一定顺序保存保存\n"
   ]
  },
  {
   "cell_type": "code",
   "execution_count": null,
   "metadata": {
    "collapsed": false
   },
   "outputs": [],
   "source": [
    "def write_line(predict_img_path,output_path):\r\n",
    "    global count_frame \r\n",
    "    print(predict_img_path)\r\n",
    "    img = cv2.imread(predict_img_path)\r\n",
    "    thickness = 2\r\n",
    "    point_color = (0, 255, 0) # BGR  \r\n",
    "    # 格式cv2.circle(img, point, point_size, point_color, thickness)\r\n",
    "    cv2.line(img, (head_top[0],head_top[1]), (upper_neck[0],upper_neck[1]), point_color, 1)\r\n",
    "    cv2.line(img, (upper_neck[0],upper_neck[1]), (thorax[0],thorax[1]), point_color, thickness)\r\n",
    "    cv2.line(img, (upper_neck[0],upper_neck[1]), (left_shoulder[0],left_shoulder[1]), point_color, thickness)\r\n",
    "    cv2.line(img, (upper_neck[0],upper_neck[1]), (right_shoulder[0],right_shoulder[1]), point_color, thickness)\r\n",
    "    cv2.line(img, (left_shoulder[0],left_shoulder[1]), (left_elbow[0],left_elbow[1]), point_color, thickness)\r\n",
    "    cv2.line(img, (left_elbow[0],left_elbow[1]), (left_wrist[0],left_wrist[1]), point_color, thickness)\r\n",
    "    cv2.line(img, (right_shoulder[0],right_shoulder[1]), (right_elbow[0],right_elbow[1]), point_color, thickness)\r\n",
    "    cv2.line(img, (right_elbow[0],right_elbow[1]), (right_wrist[0],right_wrist[1]), point_color, thickness)\r\n",
    "    cv2.line(img, (left_hip[0],left_hip[1]), (left_knee[0],left_knee[1]), point_color, thickness)\r\n",
    "    cv2.line(img, (left_knee[0],left_knee[1]), (left_ankle[0],left_ankle[1]), point_color, thickness)\r\n",
    "    cv2.line(img, (right_hip[0],right_hip[1]), (right_knee[0],right_knee[1]), point_color, thickness)\r\n",
    "    cv2.line(img, (right_knee[0],right_knee[1]), (right_ankle[0],right_ankle[1]), point_color, thickness)\r\n",
    "    cv2.line(img, (thorax[0],thorax[1]), (left_hip[0],left_hip[1]), point_color, thickness)\r\n",
    "    cv2.line(img, (thorax[0],thorax[1]), (right_hip[0],right_hip[1]), point_color, thickness)\r\n",
    "    true_count = count_frame //2\r\n",
    "    # pose_img_path = \"data/img/pose_frame/\" + str(true_count) +\".jpg\"\r\n",
    "    # img_black_path = \"data/img/black_frame/\" + str(true_count) + \".jpg\"\r\n",
    "    # if (count_frame %2):\r\n",
    "    #     cv2.imwrite(output_path,img)\r\n",
    "    # else:\r\n",
    "    #     cv2.imwrite(img_black_path,img)\r\n",
    "    cv2.imwrite(output_path+ str(true_count) +\".jpg\",img)\r\n",
    "    count_frame = count_frame +1\r\n",
    "\r\n"
   ]
  },
  {
   "cell_type": "markdown",
   "metadata": {
    "collapsed": false
   },
   "source": [
    "### 连接监测点进行画线并输出"
   ]
  },
  {
   "cell_type": "code",
   "execution_count": null,
   "metadata": {
    "collapsed": false
   },
   "outputs": [],
   "source": [
    "def GetOutputPose(frame_path,output_black_path,output_pose_path):\r\n",
    "    \"输入需要进行关键点检测的图片目录，进行检测后分别输出原图加线的图片以及只有关键点连线的图\"\r\n",
    "    \"black_path:只有关键点连线的图片目录\"\r\n",
    "    \"frame_path:需要处理的图片目录\"\r\n",
    "    \"output_pose_path:带原图加连线的图片目录\"\r\n",
    "    # 配置\r\n",
    "    num = os.listdir(frame_path)\r\n",
    "    for i in range(0,len(num)-1):\r\n",
    "        img_black = np.zeros((size_x,size_y,3), np.uint8)\r\n",
    "        img_black.fill(255)\r\n",
    "        img_black_path =output_black_path + str(i) + \".jpg\"\r\n",
    "        cv2.imwrite(img_black_path,img_black)\r\n",
    "    for i in range(0,len(num)-1):\r\n",
    "        path_dict = frame_path + str(i) + \".jpg\"\r\n",
    "        input_dict = {\"image\":[path_dict]}\r\n",
    "        print(\"This is OutputPose {} pictrue\".format(i))\r\n",
    "        # img_black_path = \"data/img/black_frame/\" + str(i) + \".jpg\"\r\n",
    "        results = pose_resnet50_mpii.keypoint_detection(data=input_dict)\r\n",
    "        for result in results:\r\n",
    "            change_data(result)\r\n",
    "            write_line(path_dict,output_pose_path)\r\n",
    "            write_line(img_black_path,output_black_path)\r\n",
    "\r\n",
    "\r\n"
   ]
  },
  {
   "cell_type": "markdown",
   "metadata": {
    "collapsed": false
   },
   "source": [
    "# 转换风格\n",
    "将安崎小甜心的主题曲直拍视频专程水墨画风格"
   ]
  },
  {
   "cell_type": "markdown",
   "metadata": {
    "collapsed": false
   },
   "source": [
    "## 定义转换风格方法\n",
    "输入需要进行风格迁移的图片路径列表，批量转换并输出"
   ]
  },
  {
   "cell_type": "code",
   "execution_count": 15,
   "metadata": {
    "collapsed": false
   },
   "outputs": [],
   "source": [
    "def change_style(img_list,output_dir):\r\n",
    "    \"\"\"\r\n",
    "    调用模型进行风格转换\r\n",
    "    img_list: 需要转换的图片对象集合\r\n",
    "    output_dir:图片输出目录\r\n",
    "    \"\"\"\r\n",
    "    print(img_list)\r\n",
    "\r\n",
    "    result = stylepro_artistic.style_transfer(\r\n",
    "            paths=img_list,\r\n",
    "            # use_gpu=True,\r\n",
    "            visualization=True,\r\n",
    "            output_dir=output_dir,\r\n",
    "            alpha=0.5\r\n",
    "        )     \r\n",
    "    \r\n",
    "\r\n",
    "\r\n",
    "\r\n",
    "def get_img_list(frame_path):\r\n",
    "    \"\"\"\r\n",
    "    组装转换风格imglist\r\n",
    "    frame_path：需要转换风格的原图目录\r\n",
    "    \"\"\"\r\n",
    "    num = os.listdir(frame_path)\r\n",
    "    img_list=[]\r\n",
    "    for i in range(0,len(num)-1):\r\n",
    "        img_path =frame_path + str(i) + \".jpg\"\r\n",
    "        img={}\r\n",
    "        styles=['work/style/timg3.jpg']\r\n",
    "        img['styles']=styles\r\n",
    "        img['content']=img_path\r\n",
    "        img_list.append(img)\r\n",
    "    return img_list\r\n",
    "\r\n",
    "\r\n"
   ]
  },
  {
   "cell_type": "markdown",
   "metadata": {
    "collapsed": false
   },
   "source": [
    "## 视频合成\n",
    "将风格迁移完的美美的图片重新组装成视频并输出"
   ]
  },
  {
   "cell_type": "code",
   "execution_count": 17,
   "metadata": {
    "collapsed": false
   },
   "outputs": [],
   "source": [
    "def comp_video(comb_path):\r\n",
    "    \"\"\"\r\n",
    "    视频合成\r\n",
    "    comb_path: 合成图片所在目录\r\n",
    "    \"\"\"\r\n",
    "    fourcc = cv2.VideoWriter_fourcc(*'MP4V')\r\n",
    "    video_tmp_name = comb_path.split(\"/\")[2]\r\n",
    "    video_name = \"video/\" + str(video_tmp_name) + \".mp4\"\r\n",
    "    files = os.listdir(comb_path)\r\n",
    "    out = cv2.VideoWriter(video_name,fourcc,30.0,(size_y, size_x))\r\n",
    "    # 排序\r\n",
    "    files = sorted(files, key=lambda x: os.path.getmtime(os.path.join(comb_path, x)))\r\n",
    "    print(\"一共有{}帧图片要合成\".format(len(files)))\r\n",
    "    for i in range(len(files)):\r\n",
    "        img = cv2.imread(comb_path+files[i])\r\n",
    "        out.write(img)    # 保存帧\r\n",
    "    out.release()\r\n",
    "\r\n",
    "\r\n"
   ]
  },
  {
   "cell_type": "markdown",
   "metadata": {
    "collapsed": false
   },
   "source": [
    "## 视频音频合成\n",
    "将原本视频的音频合到新风格的视频上"
   ]
  },
  {
   "cell_type": "code",
   "execution_count": 18,
   "metadata": {
    "collapsed": false
   },
   "outputs": [],
   "source": [
    "\r\n",
    "\r\n",
    "def getMusic(video_name):\r\n",
    "\r\n",
    "    \"\"\"\r\n",
    "\r\n",
    "    获取指定视频的音频\r\n",
    "\r\n",
    "    \"\"\"\r\n",
    "\r\n",
    "    # 读取视频文件\r\n",
    "\r\n",
    "    video = VideoFileClip(video_name)\r\n",
    "\r\n",
    "    # 返回音频\r\n",
    "\r\n",
    "    return video.audio\r\n",
    "\r\n",
    "\r\n",
    "def addMusic(video_name, audio,output_video):\r\n",
    "\r\n",
    "    \"\"\"实现混流，给video_name添加音频\"\"\"\r\n",
    "\r\n",
    "    # 读取视频\r\n",
    "\r\n",
    "    video = VideoFileClip(video_name)\r\n",
    "\r\n",
    "    # 设置视频的音频\r\n",
    "\r\n",
    "    video = video.set_audio(audio)\r\n",
    "\r\n",
    "    # 保存新的视频文件\r\n",
    "\r\n",
    "    video.write_videofile(output_video)\r\n",
    "    \r\n"
   ]
  },
  {
   "cell_type": "markdown",
   "metadata": {
    "collapsed": false
   },
   "source": [
    "# 动作评估\n",
    "\n",
    "上面我们已经生成了青春有你2的主题曲标准舞蹈的关键点画线集合，接下来，我们需要实现对比标准舞蹈动作以及测试舞蹈动作，计算每一帧图片的相似度，然后通过均值计算获取选手主题曲的舞蹈实力分数\n"
   ]
  },
  {
   "cell_type": "markdown",
   "metadata": {
    "collapsed": false
   },
   "source": [
    "## 相似值计算\n",
    "基于直方图计算两个图片之间的相似度"
   ]
  },
  {
   "cell_type": "code",
   "execution_count": null,
   "metadata": {
    "collapsed": false
   },
   "outputs": [],
   "source": [
    "import cv2\r\n",
    "\r\n",
    "# 计算单通道的直方图的相似值\r\n",
    "def calculate(image1, image2):\r\n",
    "    hist1 = cv2.calcHist([image1], [0], None, [256], [0.0, 255.0])\r\n",
    "    hist2 = cv2.calcHist([image2], [0], None, [256], [0.0, 255.0])\r\n",
    "    # 计算直方图的重合度\r\n",
    "    degree = 0\r\n",
    "    for i in range(len(hist1)):\r\n",
    "        if hist1[i] != hist2[i]:\r\n",
    "            degree = degree + (1 - abs(hist1[i] - hist2[i]) / max(hist1[i], hist2[i]))\r\n",
    "        else:\r\n",
    "            degree = degree + 1\r\n",
    "    degree = degree / len(hist1)\r\n",
    "    return degree"
   ]
  },
  {
   "cell_type": "markdown",
   "metadata": {
    "collapsed": false
   },
   "source": [
    "## 将实力值合成到测试选手的图片上面"
   ]
  },
  {
   "cell_type": "code",
   "execution_count": null,
   "metadata": {
    "collapsed": false
   },
   "outputs": [],
   "source": [
    "from PIL import Image\r\n",
    "from PIL import ImageFilter\r\n",
    "from PIL import ImageEnhance\r\n",
    "from PIL import ImageDraw , ImageFont\r\n",
    " \r\n",
    "def draw_text(bg_path,text,output_path):\r\n",
    "    \"\"\"\r\n",
    "    实现图片上面叠加中文\r\n",
    "    bg_path：需要加中文的图片\r\n",
    "    text: 添加的中文内容\r\n",
    "    output_path： 合成后输出的图片路径\r\n",
    "    \"\"\"\r\n",
    "    \r\n",
    "    im = Image.open(bg_path)\r\n",
    "    draw = ImageDraw.Draw(im)\r\n",
    "    fnt = ImageFont.truetype(r'fonts/SimHei.ttf',32)\r\n",
    "    draw.text((100, 600), text, fill='red', font=fnt)\r\n",
    "    im.show()\r\n",
    "    im.save(output_path)\r\n"
   ]
  },
  {
   "cell_type": "markdown",
   "metadata": {
    "collapsed": false
   },
   "source": [
    "# 分析测试选手的大众好感度\n",
    "主要是基于LSTM模型对微博评论进行情感分析\n",
    "1.爬取与测试选手相关微博评论\n",
    "2.训练模型\n",
    "3.得出选手好感度以及搜索输出选手话题词云\n"
   ]
  },
  {
   "cell_type": "code",
   "execution_count": null,
   "metadata": {
    "collapsed": false
   },
   "outputs": [
    {
     "name": "stdout",
     "output_type": "stream",
     "text": [
      "Looking in indexes: https://pypi.mirrors.ustc.edu.cn/simple/\n",
      "Collecting pyquery\n",
      "  Downloading https://mirrors.tuna.tsinghua.edu.cn/pypi/web/packages/78/43/95d42e386c61cb639d1a0b94f0c0b9f0b7d6b981ad3c043a836c8b5bc68b/pyquery-1.4.1-py2.py3-none-any.whl\n",
      "Collecting cssselect>0.7.9 (from pyquery)\n",
      "  Downloading https://mirrors.tuna.tsinghua.edu.cn/pypi/web/packages/3b/d4/3b5c17f00cce85b9a1e6f91096e1cc8e8ede2e1be8e96b87ce1ed09e92c5/cssselect-1.1.0-py2.py3-none-any.whl\n",
      "Collecting lxml>=2.1 (from pyquery)\n",
      "\u001b[33m  WARNING: Retrying (Retry(total=4, connect=None, read=None, redirect=None, status=None)) after connection broken by 'ReadTimeoutError(\"HTTPSConnectionPool(host='mirrors.ustc.edu.cn', port=443): Read timed out. (read timeout=15)\")': /pypi/web/simple/lxml/\u001b[0m\n",
      "\u001b[?25l  Downloading https://mirrors.tuna.tsinghua.edu.cn/pypi/web/packages/85/9e/93e2c3af278c7c8b6826666bbcb145af2829bd761c3b329e51cd6343836c/lxml-4.5.0-cp37-cp37m-manylinux1_x86_64.whl (5.7MB)\n",
      "\u001b[K     |████████████████████████████████| 5.7MB 58.8MB/s eta 0:00:01\n",
      "\u001b[?25hInstalling collected packages: cssselect, lxml, pyquery\n",
      "Successfully installed cssselect-1.1.0 lxml-4.5.0 pyquery-1.4.1\n"
     ]
    }
   ],
   "source": [
    "!pip install pyquery"
   ]
  },
  {
   "cell_type": "markdown",
   "metadata": {
    "collapsed": false
   },
   "source": [
    "## 爬取微博评论数据"
   ]
  },
  {
   "cell_type": "code",
   "execution_count": null,
   "metadata": {
    "collapsed": false
   },
   "outputs": [
    {
     "name": "stdout",
     "output_type": "stream",
     "text": [
      "https://m.weibo.cn/api/container/getIndex?containerid=100103type%3D1%26q%3D%E8%B0%A2%E5%8F%AF%E5%AF%85&page_type=searchall&page=1\n",
      "1\n",
      "https://m.weibo.cn/api/container/getIndex?containerid=100103type%3D1%26q%3D%E8%B0%A2%E5%8F%AF%E5%AF%85&page_type=searchall&page=2\n",
      "2\n",
      "https://m.weibo.cn/api/container/getIndex?containerid=100103type%3D1%26q%3D%E8%B0%A2%E5%8F%AF%E5%AF%85&page_type=searchall&page=3\n",
      "3\n",
      "https://m.weibo.cn/api/container/getIndex?containerid=100103type%3D1%26q%3D%E8%B0%A2%E5%8F%AF%E5%AF%85&page_type=searchall&page=4\n",
      "4\n",
      "https://m.weibo.cn/api/container/getIndex?containerid=100103type%3D1%26q%3D%E8%B0%A2%E5%8F%AF%E5%AF%85&page_type=searchall&page=5\n",
      "5\n",
      "https://m.weibo.cn/api/container/getIndex?containerid=100103type%3D1%26q%3D%E8%B0%A2%E5%8F%AF%E5%AF%85&page_type=searchall&page=6\n",
      "6\n",
      "https://m.weibo.cn/api/container/getIndex?containerid=100103type%3D1%26q%3D%E8%B0%A2%E5%8F%AF%E5%AF%85&page_type=searchall&page=7\n",
      "7\n",
      "https://m.weibo.cn/api/container/getIndex?containerid=100103type%3D1%26q%3D%E8%B0%A2%E5%8F%AF%E5%AF%85&page_type=searchall&page=8\n",
      "8\n",
      "https://m.weibo.cn/api/container/getIndex?containerid=100103type%3D1%26q%3D%E8%B0%A2%E5%8F%AF%E5%AF%85&page_type=searchall&page=9\n",
      "9\n",
      "https://m.weibo.cn/api/container/getIndex?containerid=100103type%3D1%26q%3D%E8%B0%A2%E5%8F%AF%E5%AF%85&page_type=searchall&page=10\n",
      "10\n",
      "https://m.weibo.cn/api/container/getIndex?containerid=100103type%3D1%26q%3D%E8%B0%A2%E5%8F%AF%E5%AF%85&page_type=searchall&page=11\n",
      "11\n",
      "https://m.weibo.cn/api/container/getIndex?containerid=100103type%3D1%26q%3D%E8%B0%A2%E5%8F%AF%E5%AF%85&page_type=searchall&page=12\n",
      "12\n",
      "https://m.weibo.cn/api/container/getIndex?containerid=100103type%3D1%26q%3D%E8%B0%A2%E5%8F%AF%E5%AF%85&page_type=searchall&page=13\n",
      "13\n",
      "https://m.weibo.cn/api/container/getIndex?containerid=100103type%3D1%26q%3D%E8%B0%A2%E5%8F%AF%E5%AF%85&page_type=searchall&page=14\n",
      "14\n",
      "https://m.weibo.cn/api/container/getIndex?containerid=100103type%3D1%26q%3D%E8%B0%A2%E5%8F%AF%E5%AF%85&page_type=searchall&page=15\n",
      "15\n",
      "https://m.weibo.cn/api/container/getIndex?containerid=100103type%3D1%26q%3D%E8%B0%A2%E5%8F%AF%E5%AF%85&page_type=searchall&page=16\n",
      "16\n",
      "https://m.weibo.cn/api/container/getIndex?containerid=100103type%3D1%26q%3D%E8%B0%A2%E5%8F%AF%E5%AF%85&page_type=searchall&page=17\n",
      "17\n",
      "https://m.weibo.cn/api/container/getIndex?containerid=100103type%3D1%26q%3D%E8%B0%A2%E5%8F%AF%E5%AF%85&page_type=searchall&page=18\n",
      "18\n",
      "https://m.weibo.cn/api/container/getIndex?containerid=100103type%3D1%26q%3D%E8%B0%A2%E5%8F%AF%E5%AF%85&page_type=searchall&page=19\n",
      "19\n",
      "https://m.weibo.cn/api/container/getIndex?containerid=100103type%3D1%26q%3D%E8%B0%A2%E5%8F%AF%E5%AF%85&page_type=searchall&page=20\n",
      "20\n",
      "https://m.weibo.cn/api/container/getIndex?containerid=100103type%3D1%26q%3D%E8%B0%A2%E5%8F%AF%E5%AF%85&page_type=searchall&page=21\n",
      "21\n",
      "https://m.weibo.cn/api/container/getIndex?containerid=100103type%3D1%26q%3D%E8%B0%A2%E5%8F%AF%E5%AF%85&page_type=searchall&page=22\n",
      "22\n",
      "https://m.weibo.cn/api/container/getIndex?containerid=100103type%3D1%26q%3D%E8%B0%A2%E5%8F%AF%E5%AF%85&page_type=searchall&page=23\n",
      "23\n",
      "https://m.weibo.cn/api/container/getIndex?containerid=100103type%3D1%26q%3D%E8%B0%A2%E5%8F%AF%E5%AF%85&page_type=searchall&page=24\n",
      "24\n",
      "https://m.weibo.cn/api/container/getIndex?containerid=100103type%3D1%26q%3D%E8%B0%A2%E5%8F%AF%E5%AF%85&page_type=searchall&page=25\n",
      "25\n",
      "https://m.weibo.cn/api/container/getIndex?containerid=100103type%3D1%26q%3D%E8%B0%A2%E5%8F%AF%E5%AF%85&page_type=searchall&page=26\n",
      "26\n",
      "https://m.weibo.cn/api/container/getIndex?containerid=100103type%3D1%26q%3D%E8%B0%A2%E5%8F%AF%E5%AF%85&page_type=searchall&page=27\n",
      "27\n",
      "https://m.weibo.cn/api/container/getIndex?containerid=100103type%3D1%26q%3D%E8%B0%A2%E5%8F%AF%E5%AF%85&page_type=searchall&page=28\n",
      "28\n",
      "https://m.weibo.cn/api/container/getIndex?containerid=100103type%3D1%26q%3D%E8%B0%A2%E5%8F%AF%E5%AF%85&page_type=searchall&page=29\n",
      "29\n",
      "https://m.weibo.cn/api/container/getIndex?containerid=100103type%3D1%26q%3D%E8%B0%A2%E5%8F%AF%E5%AF%85&page_type=searchall&page=30\n",
      "30\n",
      "https://m.weibo.cn/api/container/getIndex?containerid=100103type%3D1%26q%3D%E8%B0%A2%E5%8F%AF%E5%AF%85&page_type=searchall&page=31\n",
      "31\n",
      "https://m.weibo.cn/api/container/getIndex?containerid=100103type%3D1%26q%3D%E8%B0%A2%E5%8F%AF%E5%AF%85&page_type=searchall&page=32\n",
      "32\n",
      "https://m.weibo.cn/api/container/getIndex?containerid=100103type%3D1%26q%3D%E8%B0%A2%E5%8F%AF%E5%AF%85&page_type=searchall&page=33\n",
      "33\n",
      "https://m.weibo.cn/api/container/getIndex?containerid=100103type%3D1%26q%3D%E8%B0%A2%E5%8F%AF%E5%AF%85&page_type=searchall&page=34\n",
      "34\n",
      "https://m.weibo.cn/api/container/getIndex?containerid=100103type%3D1%26q%3D%E8%B0%A2%E5%8F%AF%E5%AF%85&page_type=searchall&page=35\n",
      "35\n",
      "https://m.weibo.cn/api/container/getIndex?containerid=100103type%3D1%26q%3D%E8%B0%A2%E5%8F%AF%E5%AF%85&page_type=searchall&page=36\n",
      "36\n",
      "https://m.weibo.cn/api/container/getIndex?containerid=100103type%3D1%26q%3D%E8%B0%A2%E5%8F%AF%E5%AF%85&page_type=searchall&page=37\n",
      "37\n",
      "https://m.weibo.cn/api/container/getIndex?containerid=100103type%3D1%26q%3D%E8%B0%A2%E5%8F%AF%E5%AF%85&page_type=searchall&page=38\n",
      "38\n",
      "https://m.weibo.cn/api/container/getIndex?containerid=100103type%3D1%26q%3D%E8%B0%A2%E5%8F%AF%E5%AF%85&page_type=searchall&page=39\n",
      "39\n",
      "https://m.weibo.cn/api/container/getIndex?containerid=100103type%3D1%26q%3D%E8%B0%A2%E5%8F%AF%E5%AF%85&page_type=searchall&page=40\n",
      "40\n",
      "https://m.weibo.cn/api/container/getIndex?containerid=100103type%3D1%26q%3D%E8%B0%A2%E5%8F%AF%E5%AF%85&page_type=searchall&page=41\n",
      "41\n",
      "https://m.weibo.cn/api/container/getIndex?containerid=100103type%3D1%26q%3D%E8%B0%A2%E5%8F%AF%E5%AF%85&page_type=searchall&page=42\n",
      "42\n",
      "https://m.weibo.cn/api/container/getIndex?containerid=100103type%3D1%26q%3D%E8%B0%A2%E5%8F%AF%E5%AF%85&page_type=searchall&page=43\n",
      "43\n",
      "https://m.weibo.cn/api/container/getIndex?containerid=100103type%3D1%26q%3D%E8%B0%A2%E5%8F%AF%E5%AF%85&page_type=searchall&page=44\n",
      "44\n",
      "https://m.weibo.cn/api/container/getIndex?containerid=100103type%3D1%26q%3D%E8%B0%A2%E5%8F%AF%E5%AF%85&page_type=searchall&page=45\n",
      "45\n",
      "https://m.weibo.cn/api/container/getIndex?containerid=100103type%3D1%26q%3D%E8%B0%A2%E5%8F%AF%E5%AF%85&page_type=searchall&page=46\n",
      "46\n",
      "https://m.weibo.cn/api/container/getIndex?containerid=100103type%3D1%26q%3D%E8%B0%A2%E5%8F%AF%E5%AF%85&page_type=searchall&page=47\n",
      "47\n",
      "https://m.weibo.cn/api/container/getIndex?containerid=100103type%3D1%26q%3D%E8%B0%A2%E5%8F%AF%E5%AF%85&page_type=searchall&page=48\n",
      "48\n",
      "https://m.weibo.cn/api/container/getIndex?containerid=100103type%3D1%26q%3D%E8%B0%A2%E5%8F%AF%E5%AF%85&page_type=searchall&page=49\n",
      "49\n",
      "https://m.weibo.cn/api/container/getIndex?containerid=100103type%3D1%26q%3D%E8%B0%A2%E5%8F%AF%E5%AF%85&page_type=searchall&page=50\n",
      "50\n"
     ]
    }
   ],
   "source": [
    "import requests\r\n",
    "from pyquery import PyQuery as pq\r\n",
    "import time\r\n",
    "from urllib.parse import quote\r\n",
    "import os\r\n",
    "\r\n",
    "def get_page(page): \r\n",
    "    \"\"\"\r\n",
    "    通过微博api获取微博数据\r\n",
    "    page: 分页页数\r\n",
    "    \"\"\"\r\n",
    "    headers = {\r\n",
    "        'Host': 'm.weibo.cn',\r\n",
    "        'User-Agent': 'Mozilla/5.0 (Macintosh; Intel Mac OS X 10_12_3) AppleWebKit/537.36 (KHTML, like Gecko) Chrome/58.0.3029.110 Safari/537.36',\r\n",
    "        'X-Requested-With': 'XMLHttpRequest',\r\n",
    "    }\r\n",
    "\r\n",
    "    url = 'https://m.weibo.cn/api/container/getIndex?containerid=100103type%3D1%26q%3D'+quote(m)+'&page_type=searchall&page='+str(page)#将你检索内容转为超链接\r\n",
    "    print(url)\r\n",
    "    try:\r\n",
    "        response = requests.get(url, headers=headers)\r\n",
    "        if response.status_code == 200:\r\n",
    "            print(page)\r\n",
    "            return response.json()\r\n",
    "    except requests.ConnectionError as e:\r\n",
    "        print('Error', e.args)\r\n",
    "\r\n",
    "\r\n",
    "def parse_page(json):\r\n",
    "    f_comments=open('comment/comment.txt','a')\r\n",
    "    f_user=open('comment/weibo_user.txt','a')\r\n",
    "\r\n",
    "    if json:\r\n",
    "        items = json.get('data').get('cards')\r\n",
    "        for i in items:\r\n",
    "      \r\n",
    "            item = i.get('mblog')\r\n",
    "            if item == None:\r\n",
    "                continue\r\n",
    "\r\n",
    "            weibo = {}\r\n",
    "            weibo['id'] = item.get('id')\r\n",
    "            weibo['text'] = pq(item.get('text')).text()\r\n",
    "            weibo['name'] = item.get('user').get('screen_name')\r\n",
    "            if item.get('longText') != None :#要注意微博分长文本与文本，较长的文本在文本中会显示不全，故我们要判断并抓取。\r\n",
    "                weibo['longText'] = item.get('longText').get('longTextContent')\r\n",
    "            else:\r\n",
    "                weibo['longText'] =None\r\n",
    "            # print(weibo['name'])\r\n",
    "            # print(weibo['text'])\r\n",
    "            if weibo['longText'] !=None:\r\n",
    "                f_comments.write(weibo['longText'])\r\n",
    "                \r\n",
    "            f_comments.write(weibo['text']+'\\n')\r\n",
    "            f_user.write(weibo['name']+'\\n')\r\n",
    "              \r\n",
    "            #     yield weibo\r\n",
    "    f_comments.close()\r\n",
    "    f_user.close()\r\n",
    "\r\n",
    "if __name__ == '__main__':\r\n",
    "    m = '谢可寅'\r\n",
    "    n = 50\r\n",
    "  \r\n",
    "    for page in range(1,n+1):\r\n",
    "        time.sleep(1)         #设置睡眠时间，防止被封号\r\n",
    "        json = get_page(page)\r\n",
    "        parse_page(json)\r\n",
    "\r\n"
   ]
  },
  {
   "cell_type": "markdown",
   "metadata": {
    "collapsed": false
   },
   "source": [
    "## 清洗数据"
   ]
  },
  {
   "cell_type": "code",
   "execution_count": null,
   "metadata": {
    "collapsed": false
   },
   "outputs": [],
   "source": [
    "import re #正则匹配\r\n",
    "import jieba #中文分词\r\n",
    "\r\n",
    "#去除文本中特殊字符\r\n",
    "def clear_special_char(content):\r\n",
    "    '''\r\n",
    "    正则处理特殊字符\r\n",
    "    参数 content:原文本\r\n",
    "    return: 清除后的文本\r\n",
    "    '''\r\n",
    "    f_clear = open('comment/clear_comment.txt','a')\r\n",
    "    clear_content = re.findall('[\\u4e00-\\u9fa5a-zA-Z0-9]+',content,re.S)   #只要字符串中的中文，字母，数字\r\n",
    "    str=','.join(clear_content)\r\n",
    "    f_clear.write(str+'\\n')\r\n",
    "    f_clear.close\r\n",
    "    return str\r\n",
    "\r\n",
    "def fenci(content):\r\n",
    "    '''\r\n",
    "    利用jieba进行分词\r\n",
    "    参数 text:需要分词的句子或文本\r\n",
    "    return：分词结果\r\n",
    "    '''\r\n",
    "    jieba.load_userdict(r\"dic/user_dic.txt\")\r\n",
    "    seg_list = jieba.cut(content)\r\n",
    "    return seg_list\r\n",
    "\r\n",
    "\r\n",
    "\r\n",
    "\r\n",
    "def stopwordslist():\r\n",
    "    '''\r\n",
    "    创建停用词表\r\n",
    "    参数 file_path:停用词文本路径\r\n",
    "    return：停用词list\r\n",
    "    '''\r\n",
    "    stopwords = [line.strip() for line in open('work/stopwords.txt',encoding='UTF-8').readlines()]\r\n",
    "    acstopwords=['哦','因此','不然','谢可寅','超话']\r\n",
    "    stopwords.extend(acstopwords)\r\n",
    "    return stopwords\r\n",
    "\r\n",
    "import pandas as pd\r\n",
    "\r\n",
    "def movestopwords(sentence_depart,stopwords):\r\n",
    "    '''\r\n",
    "    去除停用词,统计词频\r\n",
    "    参数 file_path:停用词文本路径 stopwords:停用词list counts: 词频统计结果\r\n",
    "    return：None\r\n",
    "    '''\r\n",
    "    segments = []\r\n",
    "   \r\n",
    "    # 去停用词\r\n",
    "    for word in sentence_depart:\r\n",
    "        if word not in stopwords:\r\n",
    "            if word != '\\t':\r\n",
    "                # outstr += word\r\n",
    "                # outstr += \" \"\r\n",
    "                segments.append(word)\r\n",
    "   \r\n",
    "    return segments\r\n",
    "\r\n",
    "\r\n",
    "\r\n"
   ]
  },
  {
   "cell_type": "code",
   "execution_count": null,
   "metadata": {
    "collapsed": false
   },
   "outputs": [],
   "source": [
    "# 下载中文字体\r\n",
    "\r\n",
    "# 将字体文件复制到matplotlib字体路径\r\n",
    "!cp fonts/SimHei.ttf /opt/conda/envs/python35-paddle120-env/lib/python3.7/site-packages/matplotlib/mpl-data/fonts/ttf/\r\n",
    "# # 一般只需要将字体文件复制到系统字体目录下即可，但是在aistudio上该路径没有写权限，所以此方法不能用\r\n",
    "!cp fonts/SimHei.ttf .fonts\r\n",
    "# !rm -rf .cache/matplotlib\r\n",
    "!rm -rf .cache/matplotlib\r\n",
    "\r\n",
    "from matplotlib.font_manager import fontManager\r\n",
    "\r\n",
    "\r\n",
    "plt.rcParams['font.sans-serif'] = ['SimHei']\r\n",
    "plt.rcParams['axes.unicode_minus'] = False"
   ]
  },
  {
   "cell_type": "markdown",
   "metadata": {
    "collapsed": false
   },
   "source": [
    "## 统计数据"
   ]
  },
  {
   "cell_type": "code",
   "execution_count": null,
   "metadata": {
    "collapsed": false
   },
   "outputs": [
    {
     "name": "stderr",
     "output_type": "stream",
     "text": [
      "2020-05-05 00:21:45,571-WARNING: No handles with labels found to put in legend.\n"
     ]
    },
    {
     "name": "stdout",
     "output_type": "stream",
     "text": [
      "[('青春有你', 460), ('喻言', 196), ('虞书欣', 181), ('金子涵', 172), ('刘雨昕', 168), ('孔雪儿', 155), ('赵小棠', 151), ('许佳琪', 142), ('直拍', 135), ('喜欢', 125)]\n",
      "{'青春有你': 460, '喻言': 196, '虞书欣': 181, '金子涵': 172, '刘雨昕': 168, '孔雪儿': 155, '赵小棠': 151, '许佳琪': 142, '直拍': 135, '喜欢': 125}\n"
     ]
    },
    {
     "data": {
      "image/png": "[encoded data removed]",
      "text/plain": [
       "<Figure size 1440x1080 with 1 Axes>"
      ]
     },
     "metadata": {},
     "output_type": "display_data"
    }
   ],
   "source": [
    "import collections \r\n",
    "\r\n",
    "def drawcounts(segments):\r\n",
    "    '''\r\n",
    "    绘制词频统计表\r\n",
    "    参数 counts: 词频统计结果 num:绘制topN\r\n",
    "    return：none\r\n",
    "    '''\r\n",
    "    # 词频统计\r\n",
    "    word_counts = collections.Counter(segments) # 对分词做词频统计\r\n",
    "    word_counts_top10 = word_counts.most_common(10) # 获取前10最高频的词\r\n",
    "    print (word_counts_top10) \r\n",
    "    dic=dict(word_counts_top10)\r\n",
    "    print(dic)\r\n",
    "    x_values=[]\r\n",
    "    y_values=[]\r\n",
    "    for k in dic: \r\n",
    "        x_values.append(k)\r\n",
    "        y_values.append(dic[k])\r\n",
    "    # 设置显示中文\r\n",
    "\r\n",
    "    plt.rcParams['font.sans-serif'] = ['SimHei'] # 指定默认字体\r\n",
    "\r\n",
    "    plt.figure(figsize=(20,15))\r\n",
    "\r\n",
    "    plt.bar(range(len(y_values)), y_values,color='r',tick_label=x_values,facecolor='#9999ff',edgecolor='white')\r\n",
    "\r\n",
    "    # 这里是调节横坐标的倾斜度，rotation是度数，以及设置刻度字体大小\r\n",
    "    plt.xticks(rotation=45,fontsize=20)\r\n",
    "    plt.yticks(fontsize=20)\r\n",
    "\r\n",
    "    plt.legend()\r\n",
    "    plt.title('''谢可寅微博评论词频统计''',fontsize = 24)\r\n",
    "    plt.savefig('highwords.jpg')\r\n",
    "    plt.show()\r\n",
    "    return word_counts\r\n",
    "\r\n",
    "\r\n",
    "\r\n",
    "if __name__ == '__main__':\r\n",
    "\r\n",
    "    stopwords=stopwordslist()\r\n",
    "\r\n",
    "    f = open(r\"comment/comment.txt\")\r\n",
    "    line = f.readline()\r\n",
    "    segments=[]\r\n",
    "    while line:\r\n",
    "        line = f.readline()\r\n",
    "        clear_line=clear_special_char(line)\r\n",
    "        seg_list= fenci(clear_line)\r\n",
    "        segments_list=movestopwords(seg_list,stopwords)\r\n",
    "        segments.extend(segments_list)\r\n",
    "    f.close()\r\n",
    "    drawcounts(segments)\r\n",
    "\r\n",
    "  "
   ]
  },
  {
   "cell_type": "markdown",
   "metadata": {
    "collapsed": false
   },
   "source": [
    "## 情感分析\n",
    "\n",
    "对评论进行情感分析，并绘制饼图"
   ]
  },
  {
   "cell_type": "code",
   "execution_count": 92,
   "metadata": {
    "collapsed": false
   },
   "outputs": [
    {
     "name": "stdout",
     "output_type": "stream",
     "text": [
      "\u001b[33mWARNING: Skipping pyecharts as it is not installed.\u001b[0m\n",
      "Looking in indexes: https://pypi.mirrors.ustc.edu.cn/simple/\n",
      "Collecting pyecharts\n",
      "  Using cached https://mirrors.tuna.tsinghua.edu.cn/pypi/web/packages/8b/87/d358d00c8e7837da835869afa34cf556dc743a20d92d67abe02529c7b1d8/pyecharts-1.7.1-py3-none-any.whl\n",
      "Requirement already satisfied: jinja2 in /opt/conda/envs/python35-paddle120-env/lib/python3.7/site-packages (from pyecharts) (2.10.1)\n",
      "Requirement already satisfied: prettytable in /opt/conda/envs/python35-paddle120-env/lib/python3.7/site-packages (from pyecharts) (0.7.2)\n",
      "Requirement already satisfied: simplejson in /opt/conda/envs/python35-paddle120-env/lib/python3.7/site-packages (from pyecharts) (3.17.0)\n",
      "Requirement already satisfied: MarkupSafe>=0.23 in /opt/conda/envs/python35-paddle120-env/lib/python3.7/site-packages (from jinja2->pyecharts) (1.1.1)\n",
      "Installing collected packages: pyecharts\n",
      "Successfully installed pyecharts-1.7.1\n"
     ]
    }
   ],
   "source": [
    "!pip uninstall -y pyecharts\r\n",
    "!pip install pyecharts\r\n",
    "\r\n",
    "# !pip install pyecharts==0.5.10 -i https://pypi.tuna.tsinghua.edu.cn/simple/ --trusted-host pypi.tuna.tsinghua.edu.cn"
   ]
  },
  {
   "cell_type": "code",
   "execution_count": 97,
   "metadata": {
    "collapsed": false
   },
   "outputs": [],
   "source": [
    "# from pyecharts import Pie\r\n",
    "# from pyecharts.charts.basic_charts.pie import Pie\r\n",
    "\r\n",
    "from pyecharts.charts import Pie\r\n",
    "from pyecharts import options as opts\r\n",
    "def draw_pie(data,labels):\r\n",
    "    \"\"\"\r\n",
    "    绘制饼图\r\n",
    "  \r\n",
    "    \"\"\"\r\n",
    "    data_pie = [list(i) for i in zip(labels,data)]\r\n",
    "\r\n",
    " # 创建实例对象\r\n",
    "    pie = Pie(init_opts=opts.InitOpts(width='1000px',height='600px'))\r\n",
    "    # 添加数据\r\n",
    "    pie.add(series_name=\"情感类型\",data_pair=data_pie)\r\n",
    "    # 设置全局项\r\n",
    "    pie.set_global_opts(title_opts=opts.TitleOpts(title=\"谢可寅好感分析\",pos_left='center',pos_top=20))\r\n",
    "    #设置每项数据占比\r\n",
    "    pie.set_series_opts(tooltip_opts=opts.TooltipOpts(trigger='item',formatter=\"{a} <br/> {b}:{c} ({d}%)\"))\r\n",
    "    pie.render(\"pie_charts.html\")\r\n",
    "\r\n",
    "\r\n",
    "\r\n"
   ]
  },
  {
   "cell_type": "code",
   "execution_count": 60,
   "metadata": {
    "collapsed": false
   },
   "outputs": [
    {
     "name": "stdout",
     "output_type": "stream",
     "text": [
      "Module senta_lstm already installed in /home/aistudio/.paddlehub/modules/senta_lstm\r\n"
     ]
    },
    {
     "name": "stderr",
     "output_type": "stream",
     "text": [
      "\u001b[32m[2020-05-05 00:44:32,581] [    INFO] - Installing senta_lstm module\u001b[0m\n",
      "\u001b[32m[2020-05-05 00:44:32,617] [    INFO] - Module senta_lstm already installed in /home/aistudio/.paddlehub/modules/senta_lstm\u001b[0m\n",
      "\u001b[33m[2020-05-05 00:44:34,538] [ WARNING] - Parameter module_dir is deprecated, please use directory to specify the path\u001b[0m\n"
     ]
    }
   ],
   "source": [
    "!hub install senta_lstm\r\n",
    "senta = hub.Module(name=\"senta_lstm\")\r\n"
   ]
  },
  {
   "cell_type": "code",
   "execution_count": 98,
   "metadata": {
    "collapsed": false
   },
   "outputs": [
    {
     "name": "stdout",
     "output_type": "stream",
     "text": [
      "total:2505.000000,pos:1206.000000,neg:1299.000000\n"
     ]
    }
   ],
   "source": [
    "if __name__ == '__main__':\r\n",
    "\r\n",
    "    f = open(r\"comment/clear_comment.txt\")\r\n",
    "    line = f.readline()\r\n",
    "    comments=[]\r\n",
    "    while line:\r\n",
    "        comments.append(line)\r\n",
    "        line = f.readline()\r\n",
    "\r\n",
    "    f.close()\r\n",
    "    input_dict = {\"text\": comments}\r\n",
    "    results = senta.sentiment_classify(data=input_dict,batch_size=5)\r\n",
    "    positive_num=0\r\n",
    "    negative_num=0\r\n",
    "    for result in results:\r\n",
    "        if result['sentiment_key'] == 'positive':\r\n",
    "            positive_num+=1\r\n",
    "        else:\r\n",
    "            negative_num+=1\r\n",
    "\r\n",
    "    print(\"total:%f,pos:%f,neg:%f\"%(len(results),positive_num,negative_num))\r\n",
    "    data=[positive_num,negative_num]\r\n",
    "    labels=['积极评论','消极评论']\r\n",
    "    draw_pie(data,labels)\r\n"
   ]
  },
  {
   "cell_type": "markdown",
   "metadata": {
    "collapsed": false
   },
   "source": [
    "# 具体调用\n",
    "\n",
    "1. 生成标准选手的关键点划线图\n",
    "2. 生成测试选手的关键点划线图\n",
    "3. 评估测试选手主题曲实力\n",
    "4. 计算相似度均值并输出图片结果\n"
   ]
  },
  {
   "cell_type": "code",
   "execution_count": null,
   "metadata": {
    "collapsed": false
   },
   "outputs": [
    {
     "name": "stderr",
     "output_type": "stream",
     "text": [
      "\u001b[32m[2020-05-04 21:35:38,167] [    INFO] - Installing stylepro_artistic module\u001b[0m\n",
      "\u001b[33m[2020-05-04 21:35:38,185] [ WARNING] - /home/aistudio/.paddlehub/modules/stylepro_artistic/module_desc.pb does not exist, the module will be reinstalled\u001b[0m\n",
      "\u001b[31m[2020-05-04 21:35:40,432] [   ERROR] -  \u001b[0m\n",
      "\u001b[31m[2020-05-04 21:35:40,433] [   ERROR] - %%%%%%%%%%%%%%%%%%%%%%%%%%%%%%%%%%%%\u001b[0m\n",
      "\u001b[31m[2020-05-04 21:35:40,434] [   ERROR] - %                                  %\u001b[0m\n",
      "\u001b[31m[2020-05-04 21:35:40,435] [   ERROR] - %  The version of PaddlePaddle or  %\u001b[0m\n",
      "\u001b[31m[2020-05-04 21:35:40,436] [   ERROR] - %  ===> PaddleHub can not match m  %\u001b[0m\n",
      "\u001b[31m[2020-05-04 21:35:40,436] [   ERROR] - %  ===>odule, please upgrade your  %\u001b[0m\n",
      "\u001b[31m[2020-05-04 21:35:40,437] [   ERROR] - %  ===> PaddlePaddle or PaddleHub  %\u001b[0m\n",
      "\u001b[31m[2020-05-04 21:35:40,438] [   ERROR] - %  ===> according to the form bel  %\u001b[0m\n",
      "\u001b[31m[2020-05-04 21:35:40,438] [   ERROR] - %  +-----------------------------  %\u001b[0m\n",
      "\u001b[31m[2020-05-04 21:35:40,439] [   ERROR] - %  ===>---+----------+-----------  %\u001b[0m\n",
      "\u001b[31m[2020-05-04 21:35:40,440] [   ERROR] - %  ===>-------+------------------  %\u001b[0m\n",
      "\u001b[31m[2020-05-04 21:35:40,440] [   ERROR] - %  |          \u001b[1;32mResourceName  %\u001b[0m\n",
      "\u001b[31m[2020-05-04 21:35:40,441] [   ERROR] - %  ===>\u001b[0m          | \u001b[1;32mVer  %\u001b[0m\n",
      "\u001b[31m[2020-05-04 21:35:40,441] [   ERROR] - %  ===>sion\u001b[0m  |   \u001b[1;32mPaddl  %\u001b[0m\n",
      "\u001b[31m[2020-05-04 21:35:40,442] [   ERROR] - %  ===>ePaddle\u001b[0m   |    \u001b[1;32m  %\u001b[0m\n",
      "\u001b[31m[2020-05-04 21:35:40,443] [   ERROR] - %  ===>PaddleHub\u001b[0m     |         %\u001b[0m\n",
      "\u001b[31m[2020-05-04 21:35:40,444] [   ERROR] - %  +-----------------------------  %\u001b[0m\n",
      "\u001b[31m[2020-05-04 21:35:40,445] [   ERROR] - %  ===>---+----------+-----------  %\u001b[0m\n",
      "\u001b[31m[2020-05-04 21:35:40,446] [   ERROR] - %  ===>-------+------------------  %\u001b[0m\n",
      "\u001b[31m[2020-05-04 21:35:40,446] [   ERROR] - %  |       \u001b[1;33mstylepro_artist  %\u001b[0m\n",
      "\u001b[31m[2020-05-04 21:35:40,447] [   ERROR] - %  ===>ic\u001b[0m        |  1.0.0   |  %\u001b[0m\n",
      "\u001b[31m[2020-05-04 21:35:40,448] [   ERROR] - %  ===>      >1.6.2      |      >  %\u001b[0m\n",
      "\u001b[31m[2020-05-04 21:35:40,449] [   ERROR] - %  ===>1.6.0      |                %\u001b[0m\n",
      "\u001b[31m[2020-05-04 21:35:40,450] [   ERROR] - %  +-----------------------------  %\u001b[0m\n",
      "\u001b[31m[2020-05-04 21:35:40,451] [   ERROR] - %  ===>---+----------+-----------  %\u001b[0m\n",
      "\u001b[31m[2020-05-04 21:35:40,452] [   ERROR] - %  ===>-------+------------------  %\u001b[0m\n",
      "\u001b[31m[2020-05-04 21:35:40,453] [   ERROR] - %                                  %\u001b[0m\n",
      "\u001b[31m[2020-05-04 21:35:40,454] [   ERROR] - %                                  %\u001b[0m\n",
      "\u001b[31m[2020-05-04 21:35:40,455] [   ERROR] - %%%%%%%%%%%%%%%%%%%%%%%%%%%%%%%%%%%%\u001b[0m\n"
     ]
    },
    {
     "ename": "RuntimeError",
     "evalue": "The version of PaddlePaddle or PaddleHub can not match module, please upgrade your PaddlePaddle or PaddleHub according to the form below.\n+--------------------------------+----------+------------------+------------------+\n|          \u001b[1;32mResourceName\u001b[0m          | \u001b[1;32mVersion\u001b[0m  |   \u001b[1;32mPaddlePaddle\u001b[0m   |    \u001b[1;32mPaddleHub\u001b[0m     |\n+--------------------------------+----------+------------------+------------------+\n|       \u001b[1;33mstylepro_artistic\u001b[0m        |  1.0.0   |      >1.6.2      |      >1.6.0      |\n+--------------------------------+----------+------------------+------------------+\n",
     "output_type": "error",
     "traceback": [
      "\u001b[0;31m---------------------------------------------------------------------------\u001b[0m",
      "\u001b[0;31mRuntimeError\u001b[0m                              Traceback (most recent call last)",
      "\u001b[0;32m<ipython-input-59-c5bafd6fd72f>\u001b[0m in \u001b[0;36m<module>\u001b[0;34m\u001b[0m\n\u001b[1;32m      8\u001b[0m \u001b[0;34m\u001b[0m\u001b[0m\n\u001b[1;32m      9\u001b[0m     \u001b[0;31m## 转换风格\u001b[0m\u001b[0;34m\u001b[0m\u001b[0;34m\u001b[0m\u001b[0;34m\u001b[0m\u001b[0m\n\u001b[0;32m---> 10\u001b[0;31m     \u001b[0mchange_style\u001b[0m\u001b[0;34m(\u001b[0m\u001b[0mget_img_list\u001b[0m\u001b[0;34m(\u001b[0m\u001b[0;34m'work/aq/bgres/'\u001b[0m\u001b[0;34m)\u001b[0m\u001b[0;34m,\u001b[0m\u001b[0;34m'work/aq/style_img/'\u001b[0m\u001b[0;34m)\u001b[0m\u001b[0;34m\u001b[0m\u001b[0;34m\u001b[0m\u001b[0m\n\u001b[0m\u001b[1;32m     11\u001b[0m     \u001b[0mcomp_video\u001b[0m\u001b[0;34m(\u001b[0m\u001b[0;34m'work/aq/style_img/'\u001b[0m\u001b[0;34m)\u001b[0m\u001b[0;34m\u001b[0m\u001b[0;34m\u001b[0m\u001b[0m\n\u001b[1;32m     12\u001b[0m     \u001b[0maddMusic\u001b[0m\u001b[0;34m(\u001b[0m\u001b[0;34m'video/style_img.mp4'\u001b[0m\u001b[0;34m,\u001b[0m\u001b[0mgetMusic\u001b[0m\u001b[0;34m(\u001b[0m\u001b[0;34m'video/aq_base4.mp4'\u001b[0m\u001b[0;34m)\u001b[0m\u001b[0;34m,\u001b[0m\u001b[0;34m'video/voice_frame2.mp4'\u001b[0m\u001b[0;34m)\u001b[0m\u001b[0;34m\u001b[0m\u001b[0;34m\u001b[0m\u001b[0m\n",
      "\u001b[0;32m<ipython-input-58-caab13c84332>\u001b[0m in \u001b[0;36mchange_style\u001b[0;34m(img_list, output_dir)\u001b[0m\n\u001b[1;32m      5\u001b[0m     \u001b[0moutput_dir\u001b[0m\u001b[0;34m:\u001b[0m\u001b[0m图片输出目录\u001b[0m\u001b[0;34m\u001b[0m\u001b[0;34m\u001b[0m\u001b[0m\n\u001b[1;32m      6\u001b[0m     \"\"\"\n\u001b[0;32m----> 7\u001b[0;31m     \u001b[0mstylepro_artistic\u001b[0m \u001b[0;34m=\u001b[0m \u001b[0mhub\u001b[0m\u001b[0;34m.\u001b[0m\u001b[0mModule\u001b[0m\u001b[0;34m(\u001b[0m\u001b[0mname\u001b[0m\u001b[0;34m=\u001b[0m\u001b[0;34m\"stylepro_artistic\"\u001b[0m\u001b[0;34m)\u001b[0m\u001b[0;34m\u001b[0m\u001b[0;34m\u001b[0m\u001b[0m\n\u001b[0m\u001b[1;32m      8\u001b[0m \u001b[0;34m\u001b[0m\u001b[0m\n\u001b[1;32m      9\u001b[0m     result = stylepro_artistic.style_transfer(\n",
      "\u001b[0;32m/opt/conda/envs/python35-paddle120-env/lib/python3.7/site-packages/paddlehub/module/module.py\u001b[0m in \u001b[0;36m__new__\u001b[0;34m(cls, name, directory, module_dir, version)\u001b[0m\n\u001b[1;32m    142\u001b[0m         self._serving_func_name = self._get_func_name(self.__class__,\n\u001b[1;32m    143\u001b[0m                                                       _module_serving_func)\n\u001b[0;32m--> 144\u001b[0;31m         \u001b[0mself\u001b[0m\u001b[0;34m.\u001b[0m\u001b[0m_directory\u001b[0m \u001b[0;34m=\u001b[0m \u001b[0mdirectory\u001b[0m\u001b[0;34m\u001b[0m\u001b[0;34m\u001b[0m\u001b[0m\n\u001b[0m\u001b[1;32m    145\u001b[0m         \u001b[0mself\u001b[0m\u001b[0;34m.\u001b[0m\u001b[0m_initialize\u001b[0m\u001b[0;34m(\u001b[0m\u001b[0;34m**\u001b[0m\u001b[0mkwargs\u001b[0m\u001b[0;34m)\u001b[0m\u001b[0;34m\u001b[0m\u001b[0;34m\u001b[0m\u001b[0m\n\u001b[1;32m    146\u001b[0m         \u001b[0mself\u001b[0m\u001b[0;34m.\u001b[0m\u001b[0m_is_initialize\u001b[0m \u001b[0;34m=\u001b[0m \u001b[0;32mTrue\u001b[0m\u001b[0;34m\u001b[0m\u001b[0;34m\u001b[0m\u001b[0m\n",
      "\u001b[0;32m/opt/conda/envs/python35-paddle120-env/lib/python3.7/site-packages/paddlehub/module/module.py\u001b[0m in \u001b[0;36minit_with_name\u001b[0;34m(cls, name, version)\u001b[0m\n\u001b[1;32m    211\u001b[0m \u001b[0;34m\u001b[0m\u001b[0m\n\u001b[1;32m    212\u001b[0m     \u001b[0;34m@\u001b[0m\u001b[0mproperty\u001b[0m\u001b[0;34m\u001b[0m\u001b[0;34m\u001b[0m\u001b[0m\n\u001b[0;32m--> 213\u001b[0;31m     \u001b[0;32mdef\u001b[0m \u001b[0mauthor\u001b[0m\u001b[0;34m(\u001b[0m\u001b[0mself\u001b[0m\u001b[0;34m)\u001b[0m\u001b[0;34m:\u001b[0m\u001b[0;34m\u001b[0m\u001b[0;34m\u001b[0m\u001b[0m\n\u001b[0m\u001b[1;32m    214\u001b[0m         \u001b[0;32mreturn\u001b[0m \u001b[0mself\u001b[0m\u001b[0;34m.\u001b[0m\u001b[0m__class__\u001b[0m\u001b[0;34m.\u001b[0m\u001b[0m_author\u001b[0m\u001b[0;34m\u001b[0m\u001b[0;34m\u001b[0m\u001b[0m\n\u001b[1;32m    215\u001b[0m \u001b[0;34m\u001b[0m\u001b[0m\n",
      "\u001b[0;31mRuntimeError\u001b[0m: The version of PaddlePaddle or PaddleHub can not match module, please upgrade your PaddlePaddle or PaddleHub according to the form below.\n+--------------------------------+----------+------------------+------------------+\n|          \u001b[1;32mResourceName\u001b[0m          | \u001b[1;32mVersion\u001b[0m  |   \u001b[1;32mPaddlePaddle\u001b[0m   |    \u001b[1;32mPaddleHub\u001b[0m     |\n+--------------------------------+----------+------------------+------------------+\n|       \u001b[1;33mstylepro_artistic\u001b[0m        |  1.0.0   |      >1.6.2      |      >1.6.0      |\n+--------------------------------+----------+------------------+------------------+\n"
     ]
    }
   ],
   "source": [
    "if __name__ == \"__main__\":\r\n",
    "\r\n",
    "    # 生成标准选手的关键点划线图\r\n",
    "    CutVideo2Image('video/aq_base4.mp4','work/aq/base/')\r\n",
    "    delete_bg('work/aq/base/')\r\n",
    "    add_white_bg('h_out/','work/aq/bgout/','work/aq/bgres/')\r\n",
    "    count_frame = 0\r\n",
    "    GetOutputPose('work/aq/bgres/','work/aq/black_frame/','work/aq/pose_frame/')\r\n",
    "  \r\n",
    "    # 生成测试选手的关键点划线图\r\n",
    "    CutVideo2Image('video/xky_base1.mp4','work/test/base/')\r\n",
    "    count_frame = 0\r\n",
    "    GetOutputPose('work/test/base/','work/test/black_frame/','work/test/pose_frame/')\r\n",
    "\r\n",
    "    # 评估测试选手主题曲实力\r\n",
    "    test_path = 'work/test/black_frame/'\r\n",
    "    standard_path='work/aq/black_frame/'\r\n",
    "    cal=[]\r\n",
    "    num = os.listdir(test_path)\r\n",
    "    for i in range(0,len(test_path)-1): \r\n",
    "        imgobj1 = cv2.imread(test_path+str(i)+'.jpg')\r\n",
    "        imgobj2 = cv2.imread(standard_path+str(i)+'.jpg')\r\n",
    "        cal.append(calculate(imgobj1,imgobj2))\r\n",
    "\r\n",
    "    # 计算均值并输出图片结果\r\n",
    "    power_val = '实力评估值为：%3.2f'%(np.mean(cal))\r\n",
    "    draw_text('work/test/base/100.jpg',power_val,'result_test.jpg')\r\n",
    "\r\n",
    "\r\n",
    "\r\n",
    "\r\n"
   ]
  },
  {
   "cell_type": "markdown",
   "metadata": {
    "collapsed": false
   },
   "source": [
    "## 转换水墨画风格"
   ]
  },
  {
   "cell_type": "markdown",
   "metadata": {
    "collapsed": false
   },
   "source": []
  },
  {
   "cell_type": "code",
   "execution_count": 21,
   "metadata": {
    "collapsed": false
   },
   "outputs": [
    {
     "name": "stdout",
     "output_type": "stream",
     "text": [
      "Video cut finish, all 186 frame\n",
      "imge size:x is 352,y is 640\n",
      "一共有184帧图片要合成\n"
     ]
    },
    {
     "name": "stderr",
     "output_type": "stream",
     "text": [
      "chunk:  71%|███████   | 97/137 [00:00<00:00, 285.31it/s, now=None]"
     ]
    },
    {
     "name": "stdout",
     "output_type": "stream",
     "text": [
      "Moviepy - Building video video/voice_frame2.mp4.\n",
      "MoviePy - Writing audio in voice_frame2TEMP_MPY_wvf_snd.mp3\n"
     ]
    },
    {
     "name": "stderr",
     "output_type": "stream",
     "text": [
      "                                                                  \n"
     ]
    },
    {
     "name": "stdout",
     "output_type": "stream",
     "text": [
      "MoviePy - Done.\n",
      "Moviepy - Writing video video/voice_frame2.mp4\n",
      "\n"
     ]
    },
    {
     "name": "stderr",
     "output_type": "stream",
     "text": [
      "t:  30%|███       | 56/184 [00:00<00:00, 551.63it/s, now=None]                                                               \n"
     ]
    },
    {
     "name": "stdout",
     "output_type": "stream",
     "text": [
      "Moviepy - Done !\n",
      "Moviepy - video ready video/voice_frame2.mp4\n"
     ]
    }
   ],
   "source": [
    "if __name__ == \"__main__\":\r\n",
    "      ## 转换风格\r\n",
    "    change_style(get_img_list('work/aq/bgres/'),'work/aq/style_img/')\r\n",
    "    comp_video('work/aq/style_img/')\r\n",
    "    addMusic('video/style_img.mp4',getMusic('video/aq_base4.mp4'),'video/voice_frame2.mp4')"
   ]
  }
 ],
 "metadata": {
  "kernelspec": {
   "display_name": "PaddlePaddle 1.7.1 (Python 3.5)",
   "language": "python",
   "name": "py35-paddle1.2.0"
  },
  "language_info": {
   "codemirror_mode": {
    "name": "ipython",
    "version": 3
   },
   "file_extension": ".py",
   "mimetype": "text/x-python",
   "name": "python",
   "nbconvert_exporter": "python",
   "pygments_lexer": "ipython3",
   "version": "3.7.4"
  }
 },
 "nbformat": 4,
 "nbformat_minor": 1
}
